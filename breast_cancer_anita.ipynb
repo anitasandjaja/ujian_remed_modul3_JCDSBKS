{
 "cells": [
  {
   "cell_type": "code",
   "execution_count": 1,
   "metadata": {},
   "outputs": [],
   "source": [
    "import numpy as np\n",
    "import pandas as pd\n",
    "import matplotlib.pyplot as plt\n",
    "import seaborn as sns\n",
    "from sklearn.linear_model import LogisticRegression\n",
    "from sklearn.ensemble import RandomForestClassifier\n",
    "from sklearn.tree import DecisionTreeClassifier\n",
    "from sklearn.preprocessing import StandardScaler, RobustScaler\n",
    "from sklearn.model_selection import train_test_split, RandomizedSearchCV\n",
    "from sklearn.metrics import classification_report, roc_auc_score, auc, roc_curve, confusion_matrix\n",
    "from imblearn.over_sampling import SMOTE\n",
    "\n",
    "%matplotlib inline"
   ]
  },
  {
   "cell_type": "code",
   "execution_count": 2,
   "metadata": {},
   "outputs": [],
   "source": [
    "data = pd.read_csv(\"breast-cancer.csv\")"
   ]
  },
  {
   "cell_type": "code",
   "execution_count": 3,
   "metadata": {},
   "outputs": [
    {
     "data": {
      "text/plain": [
       "age            0\n",
       "menopause      0\n",
       "tumor_size     0\n",
       "inv_nodes      0\n",
       "node_caps      8\n",
       "deg_malig      0\n",
       "breast         0\n",
       "breast_quad    1\n",
       "irradiat       0\n",
       "class          0\n",
       "dtype: int64"
      ]
     },
     "execution_count": 3,
     "metadata": {},
     "output_type": "execute_result"
    }
   ],
   "source": [
    "data.isna().sum()"
   ]
  },
  {
   "cell_type": "code",
   "execution_count": 4,
   "metadata": {
    "scrolled": true
   },
   "outputs": [
    {
     "data": {
      "text/html": [
       "<div>\n",
       "<style scoped>\n",
       "    .dataframe tbody tr th:only-of-type {\n",
       "        vertical-align: middle;\n",
       "    }\n",
       "\n",
       "    .dataframe tbody tr th {\n",
       "        vertical-align: top;\n",
       "    }\n",
       "\n",
       "    .dataframe thead th {\n",
       "        text-align: right;\n",
       "    }\n",
       "</style>\n",
       "<table border=\"1\" class=\"dataframe\">\n",
       "  <thead>\n",
       "    <tr style=\"text-align: right;\">\n",
       "      <th></th>\n",
       "      <th>age</th>\n",
       "      <th>menopause</th>\n",
       "      <th>tumor_size</th>\n",
       "      <th>inv_nodes</th>\n",
       "      <th>node_caps</th>\n",
       "      <th>deg_malig</th>\n",
       "      <th>breast</th>\n",
       "      <th>breast_quad</th>\n",
       "      <th>irradiat</th>\n",
       "      <th>class</th>\n",
       "    </tr>\n",
       "  </thead>\n",
       "  <tbody>\n",
       "    <tr>\n",
       "      <th>0</th>\n",
       "      <td>'40-49'</td>\n",
       "      <td>'premeno'</td>\n",
       "      <td>'15-19'</td>\n",
       "      <td>'0-2'</td>\n",
       "      <td>'yes'</td>\n",
       "      <td>'3'</td>\n",
       "      <td>'right'</td>\n",
       "      <td>'left_up'</td>\n",
       "      <td>'no'</td>\n",
       "      <td>'recurrence-events'</td>\n",
       "    </tr>\n",
       "    <tr>\n",
       "      <th>1</th>\n",
       "      <td>'50-59'</td>\n",
       "      <td>'ge40'</td>\n",
       "      <td>'15-19'</td>\n",
       "      <td>'0-2'</td>\n",
       "      <td>'no'</td>\n",
       "      <td>'1'</td>\n",
       "      <td>'right'</td>\n",
       "      <td>'central'</td>\n",
       "      <td>'no'</td>\n",
       "      <td>'no-recurrence-events'</td>\n",
       "    </tr>\n",
       "    <tr>\n",
       "      <th>2</th>\n",
       "      <td>'50-59'</td>\n",
       "      <td>'ge40'</td>\n",
       "      <td>'35-39'</td>\n",
       "      <td>'0-2'</td>\n",
       "      <td>'no'</td>\n",
       "      <td>'2'</td>\n",
       "      <td>'left'</td>\n",
       "      <td>'left_low'</td>\n",
       "      <td>'no'</td>\n",
       "      <td>'recurrence-events'</td>\n",
       "    </tr>\n",
       "    <tr>\n",
       "      <th>3</th>\n",
       "      <td>'40-49'</td>\n",
       "      <td>'premeno'</td>\n",
       "      <td>'35-39'</td>\n",
       "      <td>'0-2'</td>\n",
       "      <td>'yes'</td>\n",
       "      <td>'3'</td>\n",
       "      <td>'right'</td>\n",
       "      <td>'left_low'</td>\n",
       "      <td>'yes'</td>\n",
       "      <td>'no-recurrence-events'</td>\n",
       "    </tr>\n",
       "    <tr>\n",
       "      <th>4</th>\n",
       "      <td>'40-49'</td>\n",
       "      <td>'premeno'</td>\n",
       "      <td>'30-34'</td>\n",
       "      <td>'3-5'</td>\n",
       "      <td>'yes'</td>\n",
       "      <td>'2'</td>\n",
       "      <td>'left'</td>\n",
       "      <td>'right_up'</td>\n",
       "      <td>'no'</td>\n",
       "      <td>'recurrence-events'</td>\n",
       "    </tr>\n",
       "  </tbody>\n",
       "</table>\n",
       "</div>"
      ],
      "text/plain": [
       "       age  menopause tumor_size inv_nodes node_caps deg_malig   breast  \\\n",
       "0  '40-49'  'premeno'    '15-19'     '0-2'     'yes'       '3'  'right'   \n",
       "1  '50-59'     'ge40'    '15-19'     '0-2'      'no'       '1'  'right'   \n",
       "2  '50-59'     'ge40'    '35-39'     '0-2'      'no'       '2'   'left'   \n",
       "3  '40-49'  'premeno'    '35-39'     '0-2'     'yes'       '3'  'right'   \n",
       "4  '40-49'  'premeno'    '30-34'     '3-5'     'yes'       '2'   'left'   \n",
       "\n",
       "  breast_quad irradiat                   class  \n",
       "0   'left_up'     'no'     'recurrence-events'  \n",
       "1   'central'     'no'  'no-recurrence-events'  \n",
       "2  'left_low'     'no'     'recurrence-events'  \n",
       "3  'left_low'    'yes'  'no-recurrence-events'  \n",
       "4  'right_up'     'no'     'recurrence-events'  "
      ]
     },
     "execution_count": 4,
     "metadata": {},
     "output_type": "execute_result"
    }
   ],
   "source": [
    "data.head()"
   ]
  },
  {
   "cell_type": "code",
   "execution_count": 5,
   "metadata": {},
   "outputs": [
    {
     "data": {
      "text/plain": [
       "<bound method DataFrame.info of          age  menopause tumor_size inv_nodes node_caps deg_malig   breast  \\\n",
       "0    '40-49'  'premeno'    '15-19'     '0-2'     'yes'       '3'  'right'   \n",
       "1    '50-59'     'ge40'    '15-19'     '0-2'      'no'       '1'  'right'   \n",
       "2    '50-59'     'ge40'    '35-39'     '0-2'      'no'       '2'   'left'   \n",
       "3    '40-49'  'premeno'    '35-39'     '0-2'     'yes'       '3'  'right'   \n",
       "4    '40-49'  'premeno'    '30-34'     '3-5'     'yes'       '2'   'left'   \n",
       "..       ...        ...        ...       ...       ...       ...      ...   \n",
       "281  '50-59'     'ge40'    '30-34'     '6-8'     'yes'       '2'   'left'   \n",
       "282  '50-59'  'premeno'    '25-29'     '3-5'     'yes'       '2'   'left'   \n",
       "283  '30-39'  'premeno'    '30-34'     '6-8'     'yes'       '2'  'right'   \n",
       "284  '50-59'  'premeno'    '15-19'     '0-2'      'no'       '2'  'right'   \n",
       "285  '50-59'     'ge40'    '40-44'     '0-2'      'no'       '3'   'left'   \n",
       "\n",
       "    breast_quad irradiat                   class  \n",
       "0     'left_up'     'no'     'recurrence-events'  \n",
       "1     'central'     'no'  'no-recurrence-events'  \n",
       "2    'left_low'     'no'     'recurrence-events'  \n",
       "3    'left_low'    'yes'  'no-recurrence-events'  \n",
       "4    'right_up'     'no'     'recurrence-events'  \n",
       "..          ...      ...                     ...  \n",
       "281  'left_low'     'no'  'no-recurrence-events'  \n",
       "282  'left_low'    'yes'  'no-recurrence-events'  \n",
       "283  'right_up'     'no'  'no-recurrence-events'  \n",
       "284  'left_low'     'no'  'no-recurrence-events'  \n",
       "285  'right_up'     'no'  'no-recurrence-events'  \n",
       "\n",
       "[286 rows x 10 columns]>"
      ]
     },
     "execution_count": 5,
     "metadata": {},
     "output_type": "execute_result"
    }
   ],
   "source": [
    "data.info"
   ]
  },
  {
   "cell_type": "code",
   "execution_count": 6,
   "metadata": {},
   "outputs": [],
   "source": [
    "data[\"age\"] = data[\"age\"].str.replace(\"'\", \"\")"
   ]
  },
  {
   "cell_type": "code",
   "execution_count": 7,
   "metadata": {},
   "outputs": [],
   "source": [
    "data[\"menopause\"] = data[\"menopause\"].str.replace(\"'\", \"\")"
   ]
  },
  {
   "cell_type": "code",
   "execution_count": 8,
   "metadata": {},
   "outputs": [],
   "source": [
    "data[\"tumor_size\"] = data[\"tumor_size\"].str.replace(\"'\", \"\")"
   ]
  },
  {
   "cell_type": "code",
   "execution_count": 9,
   "metadata": {},
   "outputs": [],
   "source": [
    "data[\"inv_nodes\"] = data[\"inv_nodes\"].str.replace(\"'\", \"\")"
   ]
  },
  {
   "cell_type": "code",
   "execution_count": 10,
   "metadata": {},
   "outputs": [],
   "source": [
    "data[\"node_caps\"] = data[\"node_caps\"].str.replace(\"'\", \"\")"
   ]
  },
  {
   "cell_type": "code",
   "execution_count": 11,
   "metadata": {},
   "outputs": [],
   "source": [
    "data[\"deg_malig\"] = data[\"deg_malig\"].str.replace(\"'\", \"\")"
   ]
  },
  {
   "cell_type": "code",
   "execution_count": 12,
   "metadata": {},
   "outputs": [],
   "source": [
    "data[\"breast\"] = data[\"breast\"].str.replace(\"'\", \"\")"
   ]
  },
  {
   "cell_type": "code",
   "execution_count": 13,
   "metadata": {},
   "outputs": [],
   "source": [
    "data[\"breast_quad\"] = data[\"breast_quad\"].str.replace(\"'\", \"\")"
   ]
  },
  {
   "cell_type": "code",
   "execution_count": 14,
   "metadata": {},
   "outputs": [],
   "source": [
    "data[\"irradiat\"] = data[\"irradiat\"].str.replace(\"'\", \"\")"
   ]
  },
  {
   "cell_type": "code",
   "execution_count": 15,
   "metadata": {},
   "outputs": [],
   "source": [
    "data[\"class\"] = data[\"class\"].str.replace(\"'\", \"\")"
   ]
  },
  {
   "cell_type": "code",
   "execution_count": 16,
   "metadata": {},
   "outputs": [
    {
     "data": {
      "text/html": [
       "<div>\n",
       "<style scoped>\n",
       "    .dataframe tbody tr th:only-of-type {\n",
       "        vertical-align: middle;\n",
       "    }\n",
       "\n",
       "    .dataframe tbody tr th {\n",
       "        vertical-align: top;\n",
       "    }\n",
       "\n",
       "    .dataframe thead th {\n",
       "        text-align: right;\n",
       "    }\n",
       "</style>\n",
       "<table border=\"1\" class=\"dataframe\">\n",
       "  <thead>\n",
       "    <tr style=\"text-align: right;\">\n",
       "      <th></th>\n",
       "      <th>age</th>\n",
       "      <th>menopause</th>\n",
       "      <th>tumor_size</th>\n",
       "      <th>inv_nodes</th>\n",
       "      <th>node_caps</th>\n",
       "      <th>deg_malig</th>\n",
       "      <th>breast</th>\n",
       "      <th>breast_quad</th>\n",
       "      <th>irradiat</th>\n",
       "      <th>class</th>\n",
       "    </tr>\n",
       "  </thead>\n",
       "  <tbody>\n",
       "    <tr>\n",
       "      <th>281</th>\n",
       "      <td>50-59</td>\n",
       "      <td>ge40</td>\n",
       "      <td>30-34</td>\n",
       "      <td>6-8</td>\n",
       "      <td>yes</td>\n",
       "      <td>2</td>\n",
       "      <td>left</td>\n",
       "      <td>left_low</td>\n",
       "      <td>no</td>\n",
       "      <td>no-recurrence-events</td>\n",
       "    </tr>\n",
       "    <tr>\n",
       "      <th>282</th>\n",
       "      <td>50-59</td>\n",
       "      <td>premeno</td>\n",
       "      <td>25-29</td>\n",
       "      <td>3-5</td>\n",
       "      <td>yes</td>\n",
       "      <td>2</td>\n",
       "      <td>left</td>\n",
       "      <td>left_low</td>\n",
       "      <td>yes</td>\n",
       "      <td>no-recurrence-events</td>\n",
       "    </tr>\n",
       "    <tr>\n",
       "      <th>283</th>\n",
       "      <td>30-39</td>\n",
       "      <td>premeno</td>\n",
       "      <td>30-34</td>\n",
       "      <td>6-8</td>\n",
       "      <td>yes</td>\n",
       "      <td>2</td>\n",
       "      <td>right</td>\n",
       "      <td>right_up</td>\n",
       "      <td>no</td>\n",
       "      <td>no-recurrence-events</td>\n",
       "    </tr>\n",
       "    <tr>\n",
       "      <th>284</th>\n",
       "      <td>50-59</td>\n",
       "      <td>premeno</td>\n",
       "      <td>15-19</td>\n",
       "      <td>0-2</td>\n",
       "      <td>no</td>\n",
       "      <td>2</td>\n",
       "      <td>right</td>\n",
       "      <td>left_low</td>\n",
       "      <td>no</td>\n",
       "      <td>no-recurrence-events</td>\n",
       "    </tr>\n",
       "    <tr>\n",
       "      <th>285</th>\n",
       "      <td>50-59</td>\n",
       "      <td>ge40</td>\n",
       "      <td>40-44</td>\n",
       "      <td>0-2</td>\n",
       "      <td>no</td>\n",
       "      <td>3</td>\n",
       "      <td>left</td>\n",
       "      <td>right_up</td>\n",
       "      <td>no</td>\n",
       "      <td>no-recurrence-events</td>\n",
       "    </tr>\n",
       "  </tbody>\n",
       "</table>\n",
       "</div>"
      ],
      "text/plain": [
       "       age menopause tumor_size inv_nodes node_caps deg_malig breast  \\\n",
       "281  50-59      ge40      30-34       6-8       yes         2   left   \n",
       "282  50-59   premeno      25-29       3-5       yes         2   left   \n",
       "283  30-39   premeno      30-34       6-8       yes         2  right   \n",
       "284  50-59   premeno      15-19       0-2        no         2  right   \n",
       "285  50-59      ge40      40-44       0-2        no         3   left   \n",
       "\n",
       "    breast_quad irradiat                 class  \n",
       "281    left_low       no  no-recurrence-events  \n",
       "282    left_low      yes  no-recurrence-events  \n",
       "283    right_up       no  no-recurrence-events  \n",
       "284    left_low       no  no-recurrence-events  \n",
       "285    right_up       no  no-recurrence-events  "
      ]
     },
     "execution_count": 16,
     "metadata": {},
     "output_type": "execute_result"
    }
   ],
   "source": [
    "data.tail()"
   ]
  },
  {
   "cell_type": "code",
   "execution_count": 17,
   "metadata": {},
   "outputs": [
    {
     "data": {
      "text/plain": [
       "age            False\n",
       "menopause      False\n",
       "tumor_size     False\n",
       "inv_nodes      False\n",
       "node_caps       True\n",
       "deg_malig      False\n",
       "breast         False\n",
       "breast_quad     True\n",
       "irradiat       False\n",
       "class          False\n",
       "dtype: bool"
      ]
     },
     "execution_count": 17,
     "metadata": {},
     "output_type": "execute_result"
    }
   ],
   "source": [
    "data.isnull().any()"
   ]
  },
  {
   "cell_type": "code",
   "execution_count": 18,
   "metadata": {},
   "outputs": [
    {
     "data": {
      "text/html": [
       "<div>\n",
       "<style scoped>\n",
       "    .dataframe tbody tr th:only-of-type {\n",
       "        vertical-align: middle;\n",
       "    }\n",
       "\n",
       "    .dataframe tbody tr th {\n",
       "        vertical-align: top;\n",
       "    }\n",
       "\n",
       "    .dataframe thead th {\n",
       "        text-align: right;\n",
       "    }\n",
       "</style>\n",
       "<table border=\"1\" class=\"dataframe\">\n",
       "  <thead>\n",
       "    <tr style=\"text-align: right;\">\n",
       "      <th></th>\n",
       "      <th>age</th>\n",
       "      <th>menopause</th>\n",
       "      <th>tumor_size</th>\n",
       "      <th>inv_nodes</th>\n",
       "      <th>node_caps</th>\n",
       "      <th>deg_malig</th>\n",
       "      <th>breast</th>\n",
       "      <th>breast_quad</th>\n",
       "      <th>irradiat</th>\n",
       "      <th>class</th>\n",
       "    </tr>\n",
       "  </thead>\n",
       "  <tbody>\n",
       "    <tr>\n",
       "      <th>20</th>\n",
       "      <td>50-59</td>\n",
       "      <td>lt40</td>\n",
       "      <td>20-24</td>\n",
       "      <td>0-2</td>\n",
       "      <td>NaN</td>\n",
       "      <td>1</td>\n",
       "      <td>left</td>\n",
       "      <td>left_low</td>\n",
       "      <td>no</td>\n",
       "      <td>recurrence-events</td>\n",
       "    </tr>\n",
       "    <tr>\n",
       "      <th>31</th>\n",
       "      <td>60-69</td>\n",
       "      <td>ge40</td>\n",
       "      <td>25-29</td>\n",
       "      <td>3-5</td>\n",
       "      <td>NaN</td>\n",
       "      <td>1</td>\n",
       "      <td>right</td>\n",
       "      <td>left_low</td>\n",
       "      <td>yes</td>\n",
       "      <td>no-recurrence-events</td>\n",
       "    </tr>\n",
       "    <tr>\n",
       "      <th>50</th>\n",
       "      <td>70-79</td>\n",
       "      <td>ge40</td>\n",
       "      <td>15-19</td>\n",
       "      <td>9-11</td>\n",
       "      <td>NaN</td>\n",
       "      <td>1</td>\n",
       "      <td>left</td>\n",
       "      <td>left_low</td>\n",
       "      <td>yes</td>\n",
       "      <td>recurrence-events</td>\n",
       "    </tr>\n",
       "    <tr>\n",
       "      <th>54</th>\n",
       "      <td>40-49</td>\n",
       "      <td>premeno</td>\n",
       "      <td>25-29</td>\n",
       "      <td>0-2</td>\n",
       "      <td>NaN</td>\n",
       "      <td>2</td>\n",
       "      <td>left</td>\n",
       "      <td>right_low</td>\n",
       "      <td>yes</td>\n",
       "      <td>no-recurrence-events</td>\n",
       "    </tr>\n",
       "    <tr>\n",
       "      <th>71</th>\n",
       "      <td>60-69</td>\n",
       "      <td>ge40</td>\n",
       "      <td>25-29</td>\n",
       "      <td>3-5</td>\n",
       "      <td>NaN</td>\n",
       "      <td>1</td>\n",
       "      <td>right</td>\n",
       "      <td>left_up</td>\n",
       "      <td>yes</td>\n",
       "      <td>no-recurrence-events</td>\n",
       "    </tr>\n",
       "    <tr>\n",
       "      <th>92</th>\n",
       "      <td>50-59</td>\n",
       "      <td>lt40</td>\n",
       "      <td>20-24</td>\n",
       "      <td>0-2</td>\n",
       "      <td>NaN</td>\n",
       "      <td>1</td>\n",
       "      <td>left</td>\n",
       "      <td>left_up</td>\n",
       "      <td>no</td>\n",
       "      <td>recurrence-events</td>\n",
       "    </tr>\n",
       "    <tr>\n",
       "      <th>149</th>\n",
       "      <td>50-59</td>\n",
       "      <td>ge40</td>\n",
       "      <td>30-34</td>\n",
       "      <td>9-11</td>\n",
       "      <td>NaN</td>\n",
       "      <td>3</td>\n",
       "      <td>left</td>\n",
       "      <td>left_up</td>\n",
       "      <td>yes</td>\n",
       "      <td>no-recurrence-events</td>\n",
       "    </tr>\n",
       "    <tr>\n",
       "      <th>240</th>\n",
       "      <td>50-59</td>\n",
       "      <td>ge40</td>\n",
       "      <td>30-34</td>\n",
       "      <td>0-2</td>\n",
       "      <td>no</td>\n",
       "      <td>3</td>\n",
       "      <td>left</td>\n",
       "      <td>NaN</td>\n",
       "      <td>no</td>\n",
       "      <td>recurrence-events</td>\n",
       "    </tr>\n",
       "    <tr>\n",
       "      <th>264</th>\n",
       "      <td>50-59</td>\n",
       "      <td>ge40</td>\n",
       "      <td>30-34</td>\n",
       "      <td>9-11</td>\n",
       "      <td>NaN</td>\n",
       "      <td>3</td>\n",
       "      <td>left</td>\n",
       "      <td>left_low</td>\n",
       "      <td>yes</td>\n",
       "      <td>no-recurrence-events</td>\n",
       "    </tr>\n",
       "  </tbody>\n",
       "</table>\n",
       "</div>"
      ],
      "text/plain": [
       "       age menopause tumor_size inv_nodes node_caps deg_malig breast  \\\n",
       "20   50-59      lt40      20-24       0-2       NaN         1   left   \n",
       "31   60-69      ge40      25-29       3-5       NaN         1  right   \n",
       "50   70-79      ge40      15-19      9-11       NaN         1   left   \n",
       "54   40-49   premeno      25-29       0-2       NaN         2   left   \n",
       "71   60-69      ge40      25-29       3-5       NaN         1  right   \n",
       "92   50-59      lt40      20-24       0-2       NaN         1   left   \n",
       "149  50-59      ge40      30-34      9-11       NaN         3   left   \n",
       "240  50-59      ge40      30-34       0-2        no         3   left   \n",
       "264  50-59      ge40      30-34      9-11       NaN         3   left   \n",
       "\n",
       "    breast_quad irradiat                 class  \n",
       "20     left_low       no     recurrence-events  \n",
       "31     left_low      yes  no-recurrence-events  \n",
       "50     left_low      yes     recurrence-events  \n",
       "54    right_low      yes  no-recurrence-events  \n",
       "71      left_up      yes  no-recurrence-events  \n",
       "92      left_up       no     recurrence-events  \n",
       "149     left_up      yes  no-recurrence-events  \n",
       "240         NaN       no     recurrence-events  \n",
       "264    left_low      yes  no-recurrence-events  "
      ]
     },
     "execution_count": 18,
     "metadata": {},
     "output_type": "execute_result"
    }
   ],
   "source": [
    "data[data.isnull().any(axis = 1)]"
   ]
  },
  {
   "cell_type": "code",
   "execution_count": 19,
   "metadata": {},
   "outputs": [
    {
     "data": {
      "text/html": [
       "<div>\n",
       "<style scoped>\n",
       "    .dataframe tbody tr th:only-of-type {\n",
       "        vertical-align: middle;\n",
       "    }\n",
       "\n",
       "    .dataframe tbody tr th {\n",
       "        vertical-align: top;\n",
       "    }\n",
       "\n",
       "    .dataframe thead th {\n",
       "        text-align: right;\n",
       "    }\n",
       "</style>\n",
       "<table border=\"1\" class=\"dataframe\">\n",
       "  <thead>\n",
       "    <tr style=\"text-align: right;\">\n",
       "      <th></th>\n",
       "      <th>age</th>\n",
       "      <th>menopause</th>\n",
       "      <th>tumor_size</th>\n",
       "      <th>inv_nodes</th>\n",
       "      <th>node_caps</th>\n",
       "      <th>deg_malig</th>\n",
       "      <th>breast</th>\n",
       "      <th>breast_quad</th>\n",
       "      <th>irradiat</th>\n",
       "      <th>class</th>\n",
       "    </tr>\n",
       "  </thead>\n",
       "  <tbody>\n",
       "    <tr>\n",
       "      <th>0</th>\n",
       "      <td>44.5</td>\n",
       "      <td>1</td>\n",
       "      <td>17</td>\n",
       "      <td>1</td>\n",
       "      <td>1</td>\n",
       "      <td>3</td>\n",
       "      <td>2</td>\n",
       "      <td>1.0</td>\n",
       "      <td>0</td>\n",
       "      <td>1</td>\n",
       "    </tr>\n",
       "    <tr>\n",
       "      <th>1</th>\n",
       "      <td>54.5</td>\n",
       "      <td>2</td>\n",
       "      <td>17</td>\n",
       "      <td>1</td>\n",
       "      <td>0</td>\n",
       "      <td>1</td>\n",
       "      <td>2</td>\n",
       "      <td>5.0</td>\n",
       "      <td>0</td>\n",
       "      <td>0</td>\n",
       "    </tr>\n",
       "    <tr>\n",
       "      <th>2</th>\n",
       "      <td>54.5</td>\n",
       "      <td>2</td>\n",
       "      <td>37</td>\n",
       "      <td>1</td>\n",
       "      <td>0</td>\n",
       "      <td>2</td>\n",
       "      <td>1</td>\n",
       "      <td>2.0</td>\n",
       "      <td>0</td>\n",
       "      <td>1</td>\n",
       "    </tr>\n",
       "    <tr>\n",
       "      <th>3</th>\n",
       "      <td>44.5</td>\n",
       "      <td>1</td>\n",
       "      <td>37</td>\n",
       "      <td>1</td>\n",
       "      <td>1</td>\n",
       "      <td>3</td>\n",
       "      <td>2</td>\n",
       "      <td>2.0</td>\n",
       "      <td>1</td>\n",
       "      <td>0</td>\n",
       "    </tr>\n",
       "    <tr>\n",
       "      <th>4</th>\n",
       "      <td>44.5</td>\n",
       "      <td>1</td>\n",
       "      <td>32</td>\n",
       "      <td>4</td>\n",
       "      <td>1</td>\n",
       "      <td>2</td>\n",
       "      <td>1</td>\n",
       "      <td>3.0</td>\n",
       "      <td>0</td>\n",
       "      <td>1</td>\n",
       "    </tr>\n",
       "  </tbody>\n",
       "</table>\n",
       "</div>"
      ],
      "text/plain": [
       "    age  menopause  tumor_size  inv_nodes  node_caps deg_malig  breast  \\\n",
       "0  44.5          1          17          1          1         3       2   \n",
       "1  54.5          2          17          1          0         1       2   \n",
       "2  54.5          2          37          1          0         2       1   \n",
       "3  44.5          1          37          1          1         3       2   \n",
       "4  44.5          1          32          4          1         2       1   \n",
       "\n",
       "   breast_quad  irradiat  class  \n",
       "0          1.0         0      1  \n",
       "1          5.0         0      0  \n",
       "2          2.0         0      1  \n",
       "3          2.0         1      0  \n",
       "4          3.0         0      1  "
      ]
     },
     "execution_count": 19,
     "metadata": {},
     "output_type": "execute_result"
    }
   ],
   "source": [
    "CleanData = data.copy()\n",
    "\n",
    "\n",
    "CleanData['node_caps']= (CleanData['node_caps']=='yes').astype(int)\n",
    "CleanData['irradiat']= (CleanData['irradiat']=='yes').astype(int)\n",
    "CleanData['class']= (CleanData['class']=='recurrence-events').astype(int)\n",
    "\n",
    "CleanData.head()\n",
    "\n",
    "#Convert breast quadtant string descriptive information into number.\n",
    "#Create dictionary of the mapping & replace values\n",
    "\n",
    "quad = {'left_up':1, 'left_low': 2, 'right_up':3, 'right_low':4, 'central':5} \n",
    "CleanData = CleanData.replace({'breast_quad': quad})\n",
    "CleanData['breast_quad'] = CleanData['breast_quad'].apply(pd.to_numeric, downcast='float', errors='coerce')\n",
    "CleanData[CleanData.isnull().any(axis = 1)]\n",
    "CleanData = CleanData.dropna()\n",
    "CleanData.head()\n",
    "\n",
    "\n",
    "#Convert breast string descriptive information into number (left = 1, right = 2)\n",
    "#Create dictionary of the mapping & replace Values\n",
    "breast = {'left':1, 'right':2} \n",
    "CleanData = CleanData.replace({'breast': breast})\n",
    "CleanData.head()\n",
    "\n",
    "#Convert menopause string descriptive information into number.\n",
    "#Create a Dictionary of the mapping & Replace Values\n",
    "menopause = {'premeno':1, 'ge40': 2, 'lt40':3} \n",
    "CleanData = CleanData.replace({'menopause': menopause})\n",
    "CleanData.head()\n",
    "\n",
    "\n",
    "#Convert 'inv_nodes' to the median of its average range.\n",
    "nodes = {'0-2':1, '3-5':4,'6-8':7,'9-11':10, '12-14':13,'15-17':16,'18-20':19,'21-23':22,'24-26':25,'27-29':28,'30-32':31,'33-35':34,\n",
    "        '36-38':37,'39':39}\n",
    "CleanData = CleanData.replace({'inv_nodes': nodes})\n",
    "(CleanData['inv_nodes'].describe)\n",
    "\n",
    "\n",
    "#Convert age to the numerical average of its average range.\n",
    "age = {'20-29':24.5, '30-39':34.5,'40-49':44.5,'50-59':54.5, '60-69':64.5,'70-79':74.5,'80-89':84.5,'90-99':94.5}\n",
    "CleanData = CleanData.replace({'age': age})\n",
    "CleanData.head()\n",
    "\n",
    ",\n",
    "#Convert tumor-size to the numerical average of its average range.\n",
    "tumor = {'0-4':2, '5-9':7,'10-14':12,'15-19':17, '20-24':22,'25-29':27,'30-34':32,'35-39':37,'40-44':42,'45-49':47,'50-54':52}\n",
    "CleanData = CleanData.replace({'tumor_size': tumor})\n",
    "CleanData.head()"
   ]
  },
  {
   "cell_type": "code",
   "execution_count": 20,
   "metadata": {},
   "outputs": [
    {
     "data": {
      "text/html": [
       "<div>\n",
       "<style scoped>\n",
       "    .dataframe tbody tr th:only-of-type {\n",
       "        vertical-align: middle;\n",
       "    }\n",
       "\n",
       "    .dataframe tbody tr th {\n",
       "        vertical-align: top;\n",
       "    }\n",
       "\n",
       "    .dataframe thead th {\n",
       "        text-align: right;\n",
       "    }\n",
       "</style>\n",
       "<table border=\"1\" class=\"dataframe\">\n",
       "  <thead>\n",
       "    <tr style=\"text-align: right;\">\n",
       "      <th></th>\n",
       "      <th>age</th>\n",
       "      <th>menopause</th>\n",
       "      <th>tumor_size</th>\n",
       "      <th>inv_nodes</th>\n",
       "      <th>node_caps</th>\n",
       "      <th>breast</th>\n",
       "      <th>breast_quad</th>\n",
       "      <th>irradiat</th>\n",
       "      <th>class</th>\n",
       "    </tr>\n",
       "  </thead>\n",
       "  <tbody>\n",
       "    <tr>\n",
       "      <th>count</th>\n",
       "      <td>285.000000</td>\n",
       "      <td>285.000000</td>\n",
       "      <td>285.000000</td>\n",
       "      <td>285.000000</td>\n",
       "      <td>285.000000</td>\n",
       "      <td>285.000000</td>\n",
       "      <td>285.000000</td>\n",
       "      <td>285.000000</td>\n",
       "      <td>285.000000</td>\n",
       "    </tr>\n",
       "    <tr>\n",
       "      <th>mean</th>\n",
       "      <td>51.131579</td>\n",
       "      <td>1.498246</td>\n",
       "      <td>26.385965</td>\n",
       "      <td>2.578947</td>\n",
       "      <td>0.196491</td>\n",
       "      <td>1.470175</td>\n",
       "      <td>2.164912</td>\n",
       "      <td>0.238596</td>\n",
       "      <td>0.294737</td>\n",
       "    </tr>\n",
       "    <tr>\n",
       "      <th>std</th>\n",
       "      <td>10.134017</td>\n",
       "      <td>0.547880</td>\n",
       "      <td>10.542928</td>\n",
       "      <td>3.456711</td>\n",
       "      <td>0.398043</td>\n",
       "      <td>0.499988</td>\n",
       "      <td>1.197487</td>\n",
       "      <td>0.426975</td>\n",
       "      <td>0.456726</td>\n",
       "    </tr>\n",
       "    <tr>\n",
       "      <th>min</th>\n",
       "      <td>24.500000</td>\n",
       "      <td>1.000000</td>\n",
       "      <td>2.000000</td>\n",
       "      <td>1.000000</td>\n",
       "      <td>0.000000</td>\n",
       "      <td>1.000000</td>\n",
       "      <td>1.000000</td>\n",
       "      <td>0.000000</td>\n",
       "      <td>0.000000</td>\n",
       "    </tr>\n",
       "    <tr>\n",
       "      <th>25%</th>\n",
       "      <td>44.500000</td>\n",
       "      <td>1.000000</td>\n",
       "      <td>22.000000</td>\n",
       "      <td>1.000000</td>\n",
       "      <td>0.000000</td>\n",
       "      <td>1.000000</td>\n",
       "      <td>1.000000</td>\n",
       "      <td>0.000000</td>\n",
       "      <td>0.000000</td>\n",
       "    </tr>\n",
       "    <tr>\n",
       "      <th>50%</th>\n",
       "      <td>54.500000</td>\n",
       "      <td>1.000000</td>\n",
       "      <td>27.000000</td>\n",
       "      <td>1.000000</td>\n",
       "      <td>0.000000</td>\n",
       "      <td>1.000000</td>\n",
       "      <td>2.000000</td>\n",
       "      <td>0.000000</td>\n",
       "      <td>0.000000</td>\n",
       "    </tr>\n",
       "    <tr>\n",
       "      <th>75%</th>\n",
       "      <td>54.500000</td>\n",
       "      <td>2.000000</td>\n",
       "      <td>32.000000</td>\n",
       "      <td>4.000000</td>\n",
       "      <td>0.000000</td>\n",
       "      <td>2.000000</td>\n",
       "      <td>3.000000</td>\n",
       "      <td>0.000000</td>\n",
       "      <td>1.000000</td>\n",
       "    </tr>\n",
       "    <tr>\n",
       "      <th>max</th>\n",
       "      <td>74.500000</td>\n",
       "      <td>3.000000</td>\n",
       "      <td>52.000000</td>\n",
       "      <td>25.000000</td>\n",
       "      <td>1.000000</td>\n",
       "      <td>2.000000</td>\n",
       "      <td>5.000000</td>\n",
       "      <td>1.000000</td>\n",
       "      <td>1.000000</td>\n",
       "    </tr>\n",
       "  </tbody>\n",
       "</table>\n",
       "</div>"
      ],
      "text/plain": [
       "              age   menopause  tumor_size   inv_nodes   node_caps      breast  \\\n",
       "count  285.000000  285.000000  285.000000  285.000000  285.000000  285.000000   \n",
       "mean    51.131579    1.498246   26.385965    2.578947    0.196491    1.470175   \n",
       "std     10.134017    0.547880   10.542928    3.456711    0.398043    0.499988   \n",
       "min     24.500000    1.000000    2.000000    1.000000    0.000000    1.000000   \n",
       "25%     44.500000    1.000000   22.000000    1.000000    0.000000    1.000000   \n",
       "50%     54.500000    1.000000   27.000000    1.000000    0.000000    1.000000   \n",
       "75%     54.500000    2.000000   32.000000    4.000000    0.000000    2.000000   \n",
       "max     74.500000    3.000000   52.000000   25.000000    1.000000    2.000000   \n",
       "\n",
       "       breast_quad    irradiat       class  \n",
       "count   285.000000  285.000000  285.000000  \n",
       "mean      2.164912    0.238596    0.294737  \n",
       "std       1.197487    0.426975    0.456726  \n",
       "min       1.000000    0.000000    0.000000  \n",
       "25%       1.000000    0.000000    0.000000  \n",
       "50%       2.000000    0.000000    0.000000  \n",
       "75%       3.000000    0.000000    1.000000  \n",
       "max       5.000000    1.000000    1.000000  "
      ]
     },
     "execution_count": 20,
     "metadata": {},
     "output_type": "execute_result"
    }
   ],
   "source": [
    "CleanData.describe()"
   ]
  },
  {
   "cell_type": "code",
   "execution_count": 21,
   "metadata": {},
   "outputs": [
    {
     "data": {
      "text/plain": [
       "<matplotlib.axes._subplots.AxesSubplot at 0x2314334ee48>"
      ]
     },
     "execution_count": 21,
     "metadata": {},
     "output_type": "execute_result"
    },
    {
     "data": {
      "image/png": "[encoded data removed]",
      "text/plain": [
       "<Figure size 864x720 with 2 Axes>"
      ]
     },
     "metadata": {
      "needs_background": "light"
     },
     "output_type": "display_data"
    }
   ],
   "source": [
    "plt.figure(figsize=(12,10))\n",
    "sns.heatmap(CleanData.corr(), annot=True)"
   ]
  },
  {
   "cell_type": "code",
   "execution_count": 22,
   "metadata": {},
   "outputs": [
    {
     "data": {
      "text/plain": [
       "class          1.000000\n",
       "node_caps      0.280741\n",
       "inv_nodes      0.279609\n",
       "irradiat       0.197856\n",
       "tumor_size     0.172998\n",
       "breast_quad   -0.018365\n",
       "breast        -0.053887\n",
       "menopause     -0.054212\n",
       "age           -0.073833\n",
       "Name: class, dtype: float64"
      ]
     },
     "execution_count": 22,
     "metadata": {},
     "output_type": "execute_result"
    }
   ],
   "source": [
    "CleanData.corr()['class'].sort_values(ascending=False)"
   ]
  },
  {
   "cell_type": "code",
   "execution_count": 23,
   "metadata": {},
   "outputs": [],
   "source": [
    "# karena jumlah feature yang memiliki korelasi tinggi terbatas, maka semua features akan digunakan"
   ]
  },
  {
   "cell_type": "code",
   "execution_count": 24,
   "metadata": {},
   "outputs": [],
   "source": [
    "# cek outlier"
   ]
  },
  {
   "cell_type": "code",
   "execution_count": 25,
   "metadata": {},
   "outputs": [
    {
     "data": {
      "text/plain": [
       "<matplotlib.axes._subplots.AxesSubplot at 0x23143df4f88>"
      ]
     },
     "execution_count": 25,
     "metadata": {},
     "output_type": "execute_result"
    },
    {
     "data": {
      "image/png": "[encoded data removed]",
      "text/plain": [
       "<Figure size 432x288 with 1 Axes>"
      ]
     },
     "metadata": {
      "needs_background": "light"
     },
     "output_type": "display_data"
    }
   ],
   "source": [
    "sns.boxplot(x=\"age\", data=CleanData)"
   ]
  },
  {
   "cell_type": "code",
   "execution_count": 26,
   "metadata": {},
   "outputs": [
    {
     "data": {
      "text/plain": [
       "<matplotlib.axes._subplots.AxesSubplot at 0x23143bb5748>"
      ]
     },
     "execution_count": 26,
     "metadata": {},
     "output_type": "execute_result"
    },
    {
     "data": {
      "image/png": "[encoded data removed]",
      "text/plain": [
       "<Figure size 432x288 with 1 Axes>"
      ]
     },
     "metadata": {
      "needs_background": "light"
     },
     "output_type": "display_data"
    }
   ],
   "source": [
    "sns.boxplot(x=\"tumor_size\", data=CleanData)"
   ]
  },
  {
   "cell_type": "code",
   "execution_count": 27,
   "metadata": {},
   "outputs": [
    {
     "data": {
      "text/plain": [
       "<matplotlib.axes._subplots.AxesSubplot at 0x23141328248>"
      ]
     },
     "execution_count": 27,
     "metadata": {},
     "output_type": "execute_result"
    },
    {
     "data": {
      "image/png": "[encoded data removed]",
      "text/plain": [
       "<Figure size 432x288 with 1 Axes>"
      ]
     },
     "metadata": {
      "needs_background": "light"
     },
     "output_type": "display_data"
    }
   ],
   "source": [
    "sns.boxplot(x=\"inv_nodes\", data=CleanData)"
   ]
  },
  {
   "cell_type": "code",
   "execution_count": 28,
   "metadata": {},
   "outputs": [
    {
     "data": {
      "text/plain": [
       "age            0\n",
       "menopause      0\n",
       "tumor_size     0\n",
       "inv_nodes      0\n",
       "node_caps      0\n",
       "deg_malig      0\n",
       "breast         0\n",
       "breast_quad    0\n",
       "irradiat       0\n",
       "class          0\n",
       "dtype: int64"
      ]
     },
     "execution_count": 28,
     "metadata": {},
     "output_type": "execute_result"
    }
   ],
   "source": [
    "CleanData.isna().sum()"
   ]
  },
  {
   "cell_type": "code",
   "execution_count": 29,
   "metadata": {
    "scrolled": true
   },
   "outputs": [
    {
     "data": {
      "text/html": [
       "<div>\n",
       "<style scoped>\n",
       "    .dataframe tbody tr th:only-of-type {\n",
       "        vertical-align: middle;\n",
       "    }\n",
       "\n",
       "    .dataframe tbody tr th {\n",
       "        vertical-align: top;\n",
       "    }\n",
       "\n",
       "    .dataframe thead th {\n",
       "        text-align: right;\n",
       "    }\n",
       "</style>\n",
       "<table border=\"1\" class=\"dataframe\">\n",
       "  <thead>\n",
       "    <tr style=\"text-align: right;\">\n",
       "      <th></th>\n",
       "      <th>age</th>\n",
       "      <th>menopause</th>\n",
       "      <th>tumor_size</th>\n",
       "      <th>inv_nodes</th>\n",
       "      <th>node_caps</th>\n",
       "      <th>deg_malig</th>\n",
       "      <th>breast</th>\n",
       "      <th>breast_quad</th>\n",
       "      <th>irradiat</th>\n",
       "    </tr>\n",
       "  </thead>\n",
       "  <tbody>\n",
       "    <tr>\n",
       "      <th>0</th>\n",
       "      <td>-1.0</td>\n",
       "      <td>0.0</td>\n",
       "      <td>-1.0</td>\n",
       "      <td>0.0</td>\n",
       "      <td>1.0</td>\n",
       "      <td>1.0</td>\n",
       "      <td>1.0</td>\n",
       "      <td>-0.5</td>\n",
       "      <td>0.0</td>\n",
       "    </tr>\n",
       "    <tr>\n",
       "      <th>1</th>\n",
       "      <td>0.0</td>\n",
       "      <td>1.0</td>\n",
       "      <td>-1.0</td>\n",
       "      <td>0.0</td>\n",
       "      <td>0.0</td>\n",
       "      <td>-1.0</td>\n",
       "      <td>1.0</td>\n",
       "      <td>1.5</td>\n",
       "      <td>0.0</td>\n",
       "    </tr>\n",
       "    <tr>\n",
       "      <th>2</th>\n",
       "      <td>0.0</td>\n",
       "      <td>1.0</td>\n",
       "      <td>1.0</td>\n",
       "      <td>0.0</td>\n",
       "      <td>0.0</td>\n",
       "      <td>0.0</td>\n",
       "      <td>0.0</td>\n",
       "      <td>0.0</td>\n",
       "      <td>0.0</td>\n",
       "    </tr>\n",
       "    <tr>\n",
       "      <th>3</th>\n",
       "      <td>-1.0</td>\n",
       "      <td>0.0</td>\n",
       "      <td>1.0</td>\n",
       "      <td>0.0</td>\n",
       "      <td>1.0</td>\n",
       "      <td>1.0</td>\n",
       "      <td>1.0</td>\n",
       "      <td>0.0</td>\n",
       "      <td>1.0</td>\n",
       "    </tr>\n",
       "    <tr>\n",
       "      <th>4</th>\n",
       "      <td>-1.0</td>\n",
       "      <td>0.0</td>\n",
       "      <td>0.5</td>\n",
       "      <td>1.0</td>\n",
       "      <td>1.0</td>\n",
       "      <td>0.0</td>\n",
       "      <td>0.0</td>\n",
       "      <td>0.5</td>\n",
       "      <td>0.0</td>\n",
       "    </tr>\n",
       "    <tr>\n",
       "      <th>...</th>\n",
       "      <td>...</td>\n",
       "      <td>...</td>\n",
       "      <td>...</td>\n",
       "      <td>...</td>\n",
       "      <td>...</td>\n",
       "      <td>...</td>\n",
       "      <td>...</td>\n",
       "      <td>...</td>\n",
       "      <td>...</td>\n",
       "    </tr>\n",
       "    <tr>\n",
       "      <th>280</th>\n",
       "      <td>0.0</td>\n",
       "      <td>1.0</td>\n",
       "      <td>0.5</td>\n",
       "      <td>2.0</td>\n",
       "      <td>1.0</td>\n",
       "      <td>0.0</td>\n",
       "      <td>0.0</td>\n",
       "      <td>0.0</td>\n",
       "      <td>0.0</td>\n",
       "    </tr>\n",
       "    <tr>\n",
       "      <th>281</th>\n",
       "      <td>0.0</td>\n",
       "      <td>0.0</td>\n",
       "      <td>0.0</td>\n",
       "      <td>1.0</td>\n",
       "      <td>1.0</td>\n",
       "      <td>0.0</td>\n",
       "      <td>0.0</td>\n",
       "      <td>0.0</td>\n",
       "      <td>1.0</td>\n",
       "    </tr>\n",
       "    <tr>\n",
       "      <th>282</th>\n",
       "      <td>-2.0</td>\n",
       "      <td>0.0</td>\n",
       "      <td>0.5</td>\n",
       "      <td>2.0</td>\n",
       "      <td>1.0</td>\n",
       "      <td>0.0</td>\n",
       "      <td>1.0</td>\n",
       "      <td>0.5</td>\n",
       "      <td>0.0</td>\n",
       "    </tr>\n",
       "    <tr>\n",
       "      <th>283</th>\n",
       "      <td>0.0</td>\n",
       "      <td>0.0</td>\n",
       "      <td>-1.0</td>\n",
       "      <td>0.0</td>\n",
       "      <td>0.0</td>\n",
       "      <td>0.0</td>\n",
       "      <td>1.0</td>\n",
       "      <td>0.0</td>\n",
       "      <td>0.0</td>\n",
       "    </tr>\n",
       "    <tr>\n",
       "      <th>284</th>\n",
       "      <td>0.0</td>\n",
       "      <td>1.0</td>\n",
       "      <td>1.5</td>\n",
       "      <td>0.0</td>\n",
       "      <td>0.0</td>\n",
       "      <td>1.0</td>\n",
       "      <td>0.0</td>\n",
       "      <td>0.5</td>\n",
       "      <td>0.0</td>\n",
       "    </tr>\n",
       "  </tbody>\n",
       "</table>\n",
       "<p>285 rows × 9 columns</p>\n",
       "</div>"
      ],
      "text/plain": [
       "     age  menopause  tumor_size  inv_nodes  node_caps  deg_malig  breast  \\\n",
       "0   -1.0        0.0        -1.0        0.0        1.0        1.0     1.0   \n",
       "1    0.0        1.0        -1.0        0.0        0.0       -1.0     1.0   \n",
       "2    0.0        1.0         1.0        0.0        0.0        0.0     0.0   \n",
       "3   -1.0        0.0         1.0        0.0        1.0        1.0     1.0   \n",
       "4   -1.0        0.0         0.5        1.0        1.0        0.0     0.0   \n",
       "..   ...        ...         ...        ...        ...        ...     ...   \n",
       "280  0.0        1.0         0.5        2.0        1.0        0.0     0.0   \n",
       "281  0.0        0.0         0.0        1.0        1.0        0.0     0.0   \n",
       "282 -2.0        0.0         0.5        2.0        1.0        0.0     1.0   \n",
       "283  0.0        0.0        -1.0        0.0        0.0        0.0     1.0   \n",
       "284  0.0        1.0         1.5        0.0        0.0        1.0     0.0   \n",
       "\n",
       "     breast_quad  irradiat  \n",
       "0           -0.5       0.0  \n",
       "1            1.5       0.0  \n",
       "2            0.0       0.0  \n",
       "3            0.0       1.0  \n",
       "4            0.5       0.0  \n",
       "..           ...       ...  \n",
       "280          0.0       0.0  \n",
       "281          0.0       1.0  \n",
       "282          0.5       0.0  \n",
       "283          0.0       0.0  \n",
       "284          0.5       0.0  \n",
       "\n",
       "[285 rows x 9 columns]"
      ]
     },
     "execution_count": 29,
     "metadata": {},
     "output_type": "execute_result"
    }
   ],
   "source": [
    "robust = RobustScaler()\n",
    "robust.fit(CleanData.drop('class', axis=1))\n",
    "scaled_data = robust.transform(CleanData.drop('class', axis=1))\n",
    "scaled_df = pd.DataFrame(scaled_data, columns=CleanData.drop('class', axis=1).columns)\n",
    "scaled_df"
   ]
  },
  {
   "cell_type": "code",
   "execution_count": null,
   "metadata": {},
   "outputs": [],
   "source": []
  },
  {
   "cell_type": "code",
   "execution_count": 32,
   "metadata": {},
   "outputs": [
    {
     "data": {
      "text/plain": [
       "age            0\n",
       "menopause      0\n",
       "tumor_size     0\n",
       "inv_nodes      0\n",
       "node_caps      0\n",
       "deg_malig      0\n",
       "breast         0\n",
       "breast_quad    0\n",
       "irradiat       0\n",
       "class          1\n",
       "dtype: int64"
      ]
     },
     "execution_count": 32,
     "metadata": {},
     "output_type": "execute_result"
    }
   ],
   "source": [
    "scaled_df.isna().sum()"
   ]
  },
  {
   "cell_type": "code",
   "execution_count": 33,
   "metadata": {},
   "outputs": [],
   "source": [
    "scaled_df['class'] = CleanData['class']"
   ]
  },
  {
   "cell_type": "code",
   "execution_count": 34,
   "metadata": {},
   "outputs": [
    {
     "data": {
      "text/html": [
       "<div>\n",
       "<style scoped>\n",
       "    .dataframe tbody tr th:only-of-type {\n",
       "        vertical-align: middle;\n",
       "    }\n",
       "\n",
       "    .dataframe tbody tr th {\n",
       "        vertical-align: top;\n",
       "    }\n",
       "\n",
       "    .dataframe thead th {\n",
       "        text-align: right;\n",
       "    }\n",
       "</style>\n",
       "<table border=\"1\" class=\"dataframe\">\n",
       "  <thead>\n",
       "    <tr style=\"text-align: right;\">\n",
       "      <th></th>\n",
       "      <th>age</th>\n",
       "      <th>menopause</th>\n",
       "      <th>tumor_size</th>\n",
       "      <th>inv_nodes</th>\n",
       "      <th>node_caps</th>\n",
       "      <th>deg_malig</th>\n",
       "      <th>breast</th>\n",
       "      <th>breast_quad</th>\n",
       "      <th>irradiat</th>\n",
       "      <th>class</th>\n",
       "    </tr>\n",
       "  </thead>\n",
       "  <tbody>\n",
       "    <tr>\n",
       "      <th>240</th>\n",
       "      <td>2.0</td>\n",
       "      <td>1.0</td>\n",
       "      <td>-1.5</td>\n",
       "      <td>0.0</td>\n",
       "      <td>0.0</td>\n",
       "      <td>0.0</td>\n",
       "      <td>0.0</td>\n",
       "      <td>1.5</td>\n",
       "      <td>0.0</td>\n",
       "      <td>NaN</td>\n",
       "    </tr>\n",
       "  </tbody>\n",
       "</table>\n",
       "</div>"
      ],
      "text/plain": [
       "     age  menopause  tumor_size  inv_nodes  node_caps  deg_malig  breast  \\\n",
       "240  2.0        1.0        -1.5        0.0        0.0        0.0     0.0   \n",
       "\n",
       "     breast_quad  irradiat  class  \n",
       "240          1.5       0.0    NaN  "
      ]
     },
     "execution_count": 34,
     "metadata": {},
     "output_type": "execute_result"
    }
   ],
   "source": [
    "scaled_df[scaled_df.isnull().any(axis = 1)]"
   ]
  },
  {
   "cell_type": "code",
   "execution_count": 35,
   "metadata": {},
   "outputs": [],
   "source": [
    "scaled_df = scaled_df.dropna()"
   ]
  },
  {
   "cell_type": "code",
   "execution_count": 36,
   "metadata": {},
   "outputs": [
    {
     "data": {
      "text/html": [
       "<div>\n",
       "<style scoped>\n",
       "    .dataframe tbody tr th:only-of-type {\n",
       "        vertical-align: middle;\n",
       "    }\n",
       "\n",
       "    .dataframe tbody tr th {\n",
       "        vertical-align: top;\n",
       "    }\n",
       "\n",
       "    .dataframe thead th {\n",
       "        text-align: right;\n",
       "    }\n",
       "</style>\n",
       "<table border=\"1\" class=\"dataframe\">\n",
       "  <thead>\n",
       "    <tr style=\"text-align: right;\">\n",
       "      <th></th>\n",
       "      <th>age</th>\n",
       "      <th>menopause</th>\n",
       "      <th>tumor_size</th>\n",
       "      <th>inv_nodes</th>\n",
       "      <th>node_caps</th>\n",
       "      <th>deg_malig</th>\n",
       "      <th>breast</th>\n",
       "      <th>breast_quad</th>\n",
       "      <th>irradiat</th>\n",
       "      <th>class</th>\n",
       "    </tr>\n",
       "  </thead>\n",
       "  <tbody>\n",
       "  </tbody>\n",
       "</table>\n",
       "</div>"
      ],
      "text/plain": [
       "Empty DataFrame\n",
       "Columns: [age, menopause, tumor_size, inv_nodes, node_caps, deg_malig, breast, breast_quad, irradiat, class]\n",
       "Index: []"
      ]
     },
     "execution_count": 36,
     "metadata": {},
     "output_type": "execute_result"
    }
   ],
   "source": [
    "scaled_df[scaled_df.isnull().any(axis = 1)]"
   ]
  },
  {
   "cell_type": "code",
   "execution_count": null,
   "metadata": {},
   "outputs": [],
   "source": []
  },
  {
   "cell_type": "markdown",
   "metadata": {},
   "source": [
    "## Visualisasi Data"
   ]
  },
  {
   "cell_type": "code",
   "execution_count": 37,
   "metadata": {},
   "outputs": [
    {
     "data": {
      "text/plain": [
       "<seaborn.axisgrid.JointGrid at 0x23143c9d808>"
      ]
     },
     "execution_count": 37,
     "metadata": {},
     "output_type": "execute_result"
    },
    {
     "data": {
      "image/png": "[encoded data removed]",
      "text/plain": [
       "<Figure size 432x432 with 3 Axes>"
      ]
     },
     "metadata": {
      "needs_background": "light"
     },
     "output_type": "display_data"
    }
   ],
   "source": [
    "sns.jointplot(x='menopause', y='tumor_size', data=CleanData)\n"
   ]
  },
  {
   "cell_type": "code",
   "execution_count": 38,
   "metadata": {},
   "outputs": [
    {
     "data": {
      "text/plain": [
       "<seaborn.axisgrid.JointGrid at 0x231440d1f08>"
      ]
     },
     "execution_count": 38,
     "metadata": {},
     "output_type": "execute_result"
    },
    {
     "data": {
      "image/png": "[encoded data removed]",
      "text/plain": [
       "<Figure size 432x432 with 3 Axes>"
      ]
     },
     "metadata": {
      "needs_background": "light"
     },
     "output_type": "display_data"
    }
   ],
   "source": [
    "sns.jointplot(x='age', y='tumor_size', data=CleanData)"
   ]
  },
  {
   "cell_type": "code",
   "execution_count": 39,
   "metadata": {},
   "outputs": [
    {
     "data": {
      "text/plain": [
       "<seaborn.axisgrid.PairGrid at 0x23144100948>"
      ]
     },
     "execution_count": 39,
     "metadata": {},
     "output_type": "execute_result"
    },
    {
     "data": {
      "image/png": "[encoded data removed]",
      "text/plain": [
       "<Figure size 1800x1800 with 110 Axes>"
      ]
     },
     "metadata": {
      "needs_background": "light"
     },
     "output_type": "display_data"
    }
   ],
   "source": [
    "sns.pairplot(CleanData)"
   ]
  },
  {
   "cell_type": "code",
   "execution_count": null,
   "metadata": {},
   "outputs": [],
   "source": []
  },
  {
   "cell_type": "code",
   "execution_count": 40,
   "metadata": {},
   "outputs": [
    {
     "data": {
      "text/plain": [
       "class\n",
       "0    [[AxesSubplot(0.125,0.670278;0.215278x0.209722...\n",
       "1    [[AxesSubplot(0.125,0.670278;0.215278x0.209722...\n",
       "dtype: object"
      ]
     },
     "execution_count": 40,
     "metadata": {},
     "output_type": "execute_result"
    },
    {
     "data": {
      "image/png": "[encoded data removed]",
      "text/plain": [
       "<Figure size 720x720 with 9 Axes>"
      ]
     },
     "metadata": {
      "needs_background": "light"
     },
     "output_type": "display_data"
    },
    {
     "data": {
      "image/png": "[encoded data removed]",
      "text/plain": [
       "<Figure size 720x720 with 9 Axes>"
      ]
     },
     "metadata": {
      "needs_background": "light"
     },
     "output_type": "display_data"
    }
   ],
   "source": [
    "CleanData.groupby('class').hist(figsize=(10, 10))"
   ]
  },
  {
   "cell_type": "code",
   "execution_count": null,
   "metadata": {},
   "outputs": [],
   "source": []
  },
  {
   "cell_type": "code",
   "execution_count": 45,
   "metadata": {},
   "outputs": [
    {
     "data": {
      "text/plain": [
       "<matplotlib.axes._subplots.AxesSubplot at 0x2314acf7e88>"
      ]
     },
     "execution_count": 45,
     "metadata": {},
     "output_type": "execute_result"
    },
    {
     "data": {
      "image/png": "[encoded data removed]",
      "text/plain": [
       "<Figure size 432x288 with 1 Axes>"
      ]
     },
     "metadata": {
      "needs_background": "light"
     },
     "output_type": "display_data"
    }
   ],
   "source": [
    "occur = CleanData[CleanData['class']==1]\n",
    "sns.distplot(occur['age'])\n",
    "\n",
    "# hubungan antara distribusi usia dan kemungkinan cancer kembali"
   ]
  },
  {
   "cell_type": "code",
   "execution_count": 42,
   "metadata": {},
   "outputs": [
    {
     "data": {
      "text/plain": [
       "<matplotlib.axes._subplots.AxesSubplot at 0x2314a863dc8>"
      ]
     },
     "execution_count": 42,
     "metadata": {},
     "output_type": "execute_result"
    },
    {
     "data": {
      "image/png": "[encoded data removed]",
      "text/plain": [
       "<Figure size 432x288 with 1 Axes>"
      ]
     },
     "metadata": {
      "needs_background": "light"
     },
     "output_type": "display_data"
    }
   ],
   "source": [
    "sns.distplot(occur['tumor_size'])\n",
    "\n",
    "#hubungan antara distribusi size tumor dengan kemungkinan cancer kembali"
   ]
  },
  {
   "cell_type": "code",
   "execution_count": 43,
   "metadata": {},
   "outputs": [
    {
     "data": {
      "text/plain": [
       "<matplotlib.axes._subplots.AxesSubplot at 0x2314a943c48>"
      ]
     },
     "execution_count": 43,
     "metadata": {},
     "output_type": "execute_result"
    },
    {
     "data": {
      "image/png": "[encoded data removed]",
      "text/plain": [
       "<Figure size 432x288 with 1 Axes>"
      ]
     },
     "metadata": {
      "needs_background": "light"
     },
     "output_type": "display_data"
    }
   ],
   "source": [
    "sns.distplot(occur['deg_malig'])\n",
    "\n",
    "# hubungan antara distribusi degree malignancy dengan kemungkinan cancer kembali"
   ]
  },
  {
   "cell_type": "code",
   "execution_count": 44,
   "metadata": {},
   "outputs": [
    {
     "data": {
      "text/plain": [
       "<seaborn.axisgrid.JointGrid at 0x2314abba788>"
      ]
     },
     "execution_count": 44,
     "metadata": {},
     "output_type": "execute_result"
    },
    {
     "data": {
      "image/png": "[encoded data removed]",
      "text/plain": [
       "<Figure size 432x432 with 3 Axes>"
      ]
     },
     "metadata": {
      "needs_background": "light"
     },
     "output_type": "display_data"
    }
   ],
   "source": [
    "sns.jointplot(x='menopause', y='class', data=CleanData)"
   ]
  },
  {
   "cell_type": "code",
   "execution_count": 49,
   "metadata": {},
   "outputs": [
    {
     "data": {
      "text/plain": [
       "<matplotlib.axes._subplots.AxesSubplot at 0x2314ad81e48>"
      ]
     },
     "execution_count": 49,
     "metadata": {},
     "output_type": "execute_result"
    },
    {
     "data": {
      "image/png": "[encoded data removed]",
      "text/plain": [
       "<Figure size 432x288 with 1 Axes>"
      ]
     },
     "metadata": {
      "needs_background": "light"
     },
     "output_type": "display_data"
    }
   ],
   "source": [
    "sns.distplot(occur['irradiat'])\n",
    "#distribusi antara radiasi terapi dengan kemungkinan cancer kembali"
   ]
  },
  {
   "cell_type": "code",
   "execution_count": null,
   "metadata": {},
   "outputs": [],
   "source": []
  },
  {
   "cell_type": "markdown",
   "metadata": {},
   "source": [
    "## Train test split"
   ]
  },
  {
   "cell_type": "code",
   "execution_count": 46,
   "metadata": {},
   "outputs": [],
   "source": [
    "X = scaled_df.drop('class', axis=1)\n",
    "y = scaled_df['class']\n",
    "X_train, X_test, y_train, y_test = train_test_split(X, y, test_size=.20, random_state=53)"
   ]
  },
  {
   "cell_type": "code",
   "execution_count": 47,
   "metadata": {},
   "outputs": [
    {
     "data": {
      "text/html": [
       "<div>\n",
       "<style scoped>\n",
       "    .dataframe tbody tr th:only-of-type {\n",
       "        vertical-align: middle;\n",
       "    }\n",
       "\n",
       "    .dataframe tbody tr th {\n",
       "        vertical-align: top;\n",
       "    }\n",
       "\n",
       "    .dataframe thead th {\n",
       "        text-align: right;\n",
       "    }\n",
       "</style>\n",
       "<table border=\"1\" class=\"dataframe\">\n",
       "  <thead>\n",
       "    <tr style=\"text-align: right;\">\n",
       "      <th></th>\n",
       "      <th>age</th>\n",
       "      <th>menopause</th>\n",
       "      <th>tumor_size</th>\n",
       "      <th>inv_nodes</th>\n",
       "      <th>node_caps</th>\n",
       "      <th>deg_malig</th>\n",
       "      <th>breast</th>\n",
       "      <th>breast_quad</th>\n",
       "      <th>irradiat</th>\n",
       "    </tr>\n",
       "  </thead>\n",
       "  <tbody>\n",
       "    <tr>\n",
       "      <th>226</th>\n",
       "      <td>1.0</td>\n",
       "      <td>1.0</td>\n",
       "      <td>0.0</td>\n",
       "      <td>0.0</td>\n",
       "      <td>0.0</td>\n",
       "      <td>1.0</td>\n",
       "      <td>1.0</td>\n",
       "      <td>0.0</td>\n",
       "      <td>0.0</td>\n",
       "    </tr>\n",
       "    <tr>\n",
       "      <th>151</th>\n",
       "      <td>0.0</td>\n",
       "      <td>1.0</td>\n",
       "      <td>-1.0</td>\n",
       "      <td>0.0</td>\n",
       "      <td>0.0</td>\n",
       "      <td>0.0</td>\n",
       "      <td>1.0</td>\n",
       "      <td>0.5</td>\n",
       "      <td>0.0</td>\n",
       "    </tr>\n",
       "    <tr>\n",
       "      <th>152</th>\n",
       "      <td>0.0</td>\n",
       "      <td>1.0</td>\n",
       "      <td>1.5</td>\n",
       "      <td>1.0</td>\n",
       "      <td>1.0</td>\n",
       "      <td>0.0</td>\n",
       "      <td>0.0</td>\n",
       "      <td>0.0</td>\n",
       "      <td>0.0</td>\n",
       "    </tr>\n",
       "    <tr>\n",
       "      <th>225</th>\n",
       "      <td>1.0</td>\n",
       "      <td>1.0</td>\n",
       "      <td>0.5</td>\n",
       "      <td>0.0</td>\n",
       "      <td>0.0</td>\n",
       "      <td>-1.0</td>\n",
       "      <td>1.0</td>\n",
       "      <td>-0.5</td>\n",
       "      <td>0.0</td>\n",
       "    </tr>\n",
       "    <tr>\n",
       "      <th>146</th>\n",
       "      <td>-2.0</td>\n",
       "      <td>0.0</td>\n",
       "      <td>0.5</td>\n",
       "      <td>3.0</td>\n",
       "      <td>0.0</td>\n",
       "      <td>0.0</td>\n",
       "      <td>1.0</td>\n",
       "      <td>-0.5</td>\n",
       "      <td>1.0</td>\n",
       "    </tr>\n",
       "    <tr>\n",
       "      <th>...</th>\n",
       "      <td>...</td>\n",
       "      <td>...</td>\n",
       "      <td>...</td>\n",
       "      <td>...</td>\n",
       "      <td>...</td>\n",
       "      <td>...</td>\n",
       "      <td>...</td>\n",
       "      <td>...</td>\n",
       "      <td>...</td>\n",
       "    </tr>\n",
       "    <tr>\n",
       "      <th>186</th>\n",
       "      <td>-1.0</td>\n",
       "      <td>0.0</td>\n",
       "      <td>0.5</td>\n",
       "      <td>0.0</td>\n",
       "      <td>0.0</td>\n",
       "      <td>1.0</td>\n",
       "      <td>1.0</td>\n",
       "      <td>0.5</td>\n",
       "      <td>0.0</td>\n",
       "    </tr>\n",
       "    <tr>\n",
       "      <th>150</th>\n",
       "      <td>-1.0</td>\n",
       "      <td>0.0</td>\n",
       "      <td>2.5</td>\n",
       "      <td>0.0</td>\n",
       "      <td>0.0</td>\n",
       "      <td>0.0</td>\n",
       "      <td>1.0</td>\n",
       "      <td>0.0</td>\n",
       "      <td>1.0</td>\n",
       "    </tr>\n",
       "    <tr>\n",
       "      <th>189</th>\n",
       "      <td>0.0</td>\n",
       "      <td>0.0</td>\n",
       "      <td>0.0</td>\n",
       "      <td>0.0</td>\n",
       "      <td>0.0</td>\n",
       "      <td>0.0</td>\n",
       "      <td>1.0</td>\n",
       "      <td>1.0</td>\n",
       "      <td>0.0</td>\n",
       "    </tr>\n",
       "    <tr>\n",
       "      <th>252</th>\n",
       "      <td>2.0</td>\n",
       "      <td>1.0</td>\n",
       "      <td>-2.5</td>\n",
       "      <td>0.0</td>\n",
       "      <td>0.0</td>\n",
       "      <td>-1.0</td>\n",
       "      <td>0.0</td>\n",
       "      <td>1.0</td>\n",
       "      <td>0.0</td>\n",
       "    </tr>\n",
       "    <tr>\n",
       "      <th>25</th>\n",
       "      <td>0.0</td>\n",
       "      <td>1.0</td>\n",
       "      <td>-0.5</td>\n",
       "      <td>1.0</td>\n",
       "      <td>1.0</td>\n",
       "      <td>0.0</td>\n",
       "      <td>1.0</td>\n",
       "      <td>-0.5</td>\n",
       "      <td>0.0</td>\n",
       "    </tr>\n",
       "  </tbody>\n",
       "</table>\n",
       "<p>227 rows × 9 columns</p>\n",
       "</div>"
      ],
      "text/plain": [
       "     age  menopause  tumor_size  inv_nodes  node_caps  deg_malig  breast  \\\n",
       "226  1.0        1.0         0.0        0.0        0.0        1.0     1.0   \n",
       "151  0.0        1.0        -1.0        0.0        0.0        0.0     1.0   \n",
       "152  0.0        1.0         1.5        1.0        1.0        0.0     0.0   \n",
       "225  1.0        1.0         0.5        0.0        0.0       -1.0     1.0   \n",
       "146 -2.0        0.0         0.5        3.0        0.0        0.0     1.0   \n",
       "..   ...        ...         ...        ...        ...        ...     ...   \n",
       "186 -1.0        0.0         0.5        0.0        0.0        1.0     1.0   \n",
       "150 -1.0        0.0         2.5        0.0        0.0        0.0     1.0   \n",
       "189  0.0        0.0         0.0        0.0        0.0        0.0     1.0   \n",
       "252  2.0        1.0        -2.5        0.0        0.0       -1.0     0.0   \n",
       "25   0.0        1.0        -0.5        1.0        1.0        0.0     1.0   \n",
       "\n",
       "     breast_quad  irradiat  \n",
       "226          0.0       0.0  \n",
       "151          0.5       0.0  \n",
       "152          0.0       0.0  \n",
       "225         -0.5       0.0  \n",
       "146         -0.5       1.0  \n",
       "..           ...       ...  \n",
       "186          0.5       0.0  \n",
       "150          0.0       1.0  \n",
       "189          1.0       0.0  \n",
       "252          1.0       0.0  \n",
       "25          -0.5       0.0  \n",
       "\n",
       "[227 rows x 9 columns]"
      ]
     },
     "execution_count": 47,
     "metadata": {},
     "output_type": "execute_result"
    }
   ],
   "source": [
    "X_train"
   ]
  },
  {
   "cell_type": "code",
   "execution_count": 48,
   "metadata": {},
   "outputs": [
    {
     "data": {
      "text/plain": [
       "226    0.0\n",
       "151    0.0\n",
       "152    0.0\n",
       "225    0.0\n",
       "146    1.0\n",
       "      ... \n",
       "186    0.0\n",
       "150    1.0\n",
       "189    0.0\n",
       "252    0.0\n",
       "25     0.0\n",
       "Name: class, Length: 227, dtype: float64"
      ]
     },
     "execution_count": 48,
     "metadata": {},
     "output_type": "execute_result"
    }
   ],
   "source": [
    "y_train"
   ]
  },
  {
   "cell_type": "code",
   "execution_count": null,
   "metadata": {},
   "outputs": [],
   "source": []
  },
  {
   "cell_type": "markdown",
   "metadata": {},
   "source": [
    "# Modelling"
   ]
  },
  {
   "cell_type": "markdown",
   "metadata": {},
   "source": [
    "## Logistic Regression"
   ]
  },
  {
   "cell_type": "code",
   "execution_count": 50,
   "metadata": {},
   "outputs": [
    {
     "data": {
      "text/plain": [
       "LogisticRegression(C=1.0, class_weight=None, dual=False, fit_intercept=True,\n",
       "                   intercept_scaling=1, l1_ratio=None, max_iter=100,\n",
       "                   multi_class='auto', n_jobs=None, penalty='l2',\n",
       "                   random_state=None, solver='lbfgs', tol=0.0001, verbose=0,\n",
       "                   warm_start=False)"
      ]
     },
     "execution_count": 50,
     "metadata": {},
     "output_type": "execute_result"
    }
   ],
   "source": [
    "lr = LogisticRegression()\n",
    "lr"
   ]
  },
  {
   "cell_type": "code",
   "execution_count": 51,
   "metadata": {},
   "outputs": [
    {
     "data": {
      "text/plain": [
       "RandomizedSearchCV(cv=5, error_score=nan,\n",
       "                   estimator=LogisticRegression(C=1.0, class_weight=None,\n",
       "                                                dual=False, fit_intercept=True,\n",
       "                                                intercept_scaling=1,\n",
       "                                                l1_ratio=None, max_iter=100,\n",
       "                                                multi_class='auto', n_jobs=None,\n",
       "                                                penalty='l2', random_state=None,\n",
       "                                                solver='lbfgs', tol=0.0001,\n",
       "                                                verbose=0, warm_start=False),\n",
       "                   iid='deprecated', n_iter=15, n_jobs=-1,\n",
       "                   param_distributions={'C': [0.1, 0.5, 0.9, 1, 2, 5],\n",
       "                                        'penalty': ['l1', 'l2'],\n",
       "                                        'random_state': [24, 32, 56, 65]},\n",
       "                   pre_dispatch='2*n_jobs', random_state=None, refit=True,\n",
       "                   return_train_score=False, scoring='roc_auc', verbose=0)"
      ]
     },
     "execution_count": 51,
     "metadata": {},
     "output_type": "execute_result"
    }
   ],
   "source": [
    "lr_params = {\n",
    "    'C': [0.1, 0.5, 0.9, 1, 2, 5],\n",
    "    'penalty':['l1','l2'],\n",
    "    'random_state':[24,32,56,65]\n",
    "}\n",
    "logreg_random = RandomizedSearchCV(estimator= lr,\n",
    "                              param_distributions= lr_params,\n",
    "                              n_iter=15, cv=5, n_jobs=-1, scoring='roc_auc')\n",
    "logreg_random.fit(X_train, y_train)"
   ]
  },
  {
   "cell_type": "code",
   "execution_count": 52,
   "metadata": {},
   "outputs": [
    {
     "data": {
      "text/plain": [
       "{'random_state': 56, 'penalty': 'l2', 'C': 0.1}"
      ]
     },
     "execution_count": 52,
     "metadata": {},
     "output_type": "execute_result"
    }
   ],
   "source": [
    "logreg_random.best_params_"
   ]
  },
  {
   "cell_type": "code",
   "execution_count": 53,
   "metadata": {},
   "outputs": [
    {
     "data": {
      "text/plain": [
       "0.7368421052631579"
      ]
     },
     "execution_count": 53,
     "metadata": {},
     "output_type": "execute_result"
    }
   ],
   "source": [
    "logreg_random.best_estimator_.score(X_test, y_test)"
   ]
  },
  {
   "cell_type": "code",
   "execution_count": null,
   "metadata": {},
   "outputs": [],
   "source": []
  },
  {
   "cell_type": "markdown",
   "metadata": {},
   "source": [
    "## Decison Tree classifier"
   ]
  },
  {
   "cell_type": "code",
   "execution_count": 54,
   "metadata": {},
   "outputs": [
    {
     "data": {
      "text/plain": [
       "DecisionTreeClassifier(ccp_alpha=0.0, class_weight=None, criterion='gini',\n",
       "                       max_depth=None, max_features=None, max_leaf_nodes=None,\n",
       "                       min_impurity_decrease=0.0, min_impurity_split=None,\n",
       "                       min_samples_leaf=1, min_samples_split=2,\n",
       "                       min_weight_fraction_leaf=0.0, presort='deprecated',\n",
       "                       random_state=None, splitter='best')"
      ]
     },
     "execution_count": 54,
     "metadata": {},
     "output_type": "execute_result"
    }
   ],
   "source": [
    "dtr = DecisionTreeClassifier()\n",
    "dtr"
   ]
  },
  {
   "cell_type": "code",
   "execution_count": 55,
   "metadata": {},
   "outputs": [
    {
     "data": {
      "text/plain": [
       "RandomizedSearchCV(cv=5, error_score=nan,\n",
       "                   estimator=DecisionTreeClassifier(ccp_alpha=0.0,\n",
       "                                                    class_weight=None,\n",
       "                                                    criterion='gini',\n",
       "                                                    max_depth=None,\n",
       "                                                    max_features=None,\n",
       "                                                    max_leaf_nodes=None,\n",
       "                                                    min_impurity_decrease=0.0,\n",
       "                                                    min_impurity_split=None,\n",
       "                                                    min_samples_leaf=1,\n",
       "                                                    min_samples_split=2,\n",
       "                                                    min_weight_fraction_leaf=0.0,\n",
       "                                                    presort='deprecated',\n",
       "                                                    random_state=None,\n",
       "                                                    splitter='best'),\n",
       "                   iid='deprecated', n_iter=15, n_jobs=-1,\n",
       "                   param_distributions={'criterion': ['gini', 'entropy'],\n",
       "                                        'max_depth': [10, 20, 30, 40],\n",
       "                                        'max_features': ['auto', 'sqrt',\n",
       "                                                         'log2'],\n",
       "                                        'min_samples_split': [4, 5, 6, 7, 8,\n",
       "                                                              9]},\n",
       "                   pre_dispatch='2*n_jobs', random_state=None, refit=True,\n",
       "                   return_train_score=False, scoring='roc_auc', verbose=0)"
      ]
     },
     "execution_count": 55,
     "metadata": {},
     "output_type": "execute_result"
    }
   ],
   "source": [
    "dtr_params = {\n",
    "    'criterion': ['gini', 'entropy'],\n",
    "    'max_depth': [10,20,30,40],\n",
    "    'min_samples_split': [4,5,6,7,8,9],\n",
    "    'max_features': ['auto', 'sqrt', 'log2']\n",
    "}\n",
    "dtr_random = RandomizedSearchCV(estimator= dtr,\n",
    "                              param_distributions= dtr_params,\n",
    "                              n_iter=15, cv=5, n_jobs=-1, scoring='roc_auc')\n",
    "dtr_random.fit(X_train, y_train)"
   ]
  },
  {
   "cell_type": "code",
   "execution_count": 56,
   "metadata": {},
   "outputs": [
    {
     "data": {
      "text/plain": [
       "{'min_samples_split': 8,\n",
       " 'max_features': 'sqrt',\n",
       " 'max_depth': 40,\n",
       " 'criterion': 'gini'}"
      ]
     },
     "execution_count": 56,
     "metadata": {},
     "output_type": "execute_result"
    }
   ],
   "source": [
    "dtr_random.best_params_"
   ]
  },
  {
   "cell_type": "code",
   "execution_count": 57,
   "metadata": {},
   "outputs": [
    {
     "data": {
      "text/plain": [
       "0.6666666666666666"
      ]
     },
     "execution_count": 57,
     "metadata": {},
     "output_type": "execute_result"
    }
   ],
   "source": [
    "dtr_random.best_estimator_.score(X_test, y_test)"
   ]
  },
  {
   "cell_type": "code",
   "execution_count": null,
   "metadata": {},
   "outputs": [],
   "source": []
  },
  {
   "cell_type": "markdown",
   "metadata": {},
   "source": [
    "## Random fores classifier"
   ]
  },
  {
   "cell_type": "code",
   "execution_count": 58,
   "metadata": {},
   "outputs": [
    {
     "data": {
      "text/plain": [
       "RandomForestClassifier(bootstrap=True, ccp_alpha=0.0, class_weight=None,\n",
       "                       criterion='gini', max_depth=None, max_features='auto',\n",
       "                       max_leaf_nodes=None, max_samples=None,\n",
       "                       min_impurity_decrease=0.0, min_impurity_split=None,\n",
       "                       min_samples_leaf=1, min_samples_split=2,\n",
       "                       min_weight_fraction_leaf=0.0, n_estimators=100,\n",
       "                       n_jobs=None, oob_score=False, random_state=None,\n",
       "                       verbose=0, warm_start=False)"
      ]
     },
     "execution_count": 58,
     "metadata": {},
     "output_type": "execute_result"
    }
   ],
   "source": [
    "rfc = RandomForestClassifier()\n",
    "rfc"
   ]
  },
  {
   "cell_type": "code",
   "execution_count": 59,
   "metadata": {},
   "outputs": [
    {
     "data": {
      "text/plain": [
       "RandomizedSearchCV(cv=5, error_score=nan,\n",
       "                   estimator=RandomForestClassifier(bootstrap=True,\n",
       "                                                    ccp_alpha=0.0,\n",
       "                                                    class_weight=None,\n",
       "                                                    criterion='gini',\n",
       "                                                    max_depth=None,\n",
       "                                                    max_features='auto',\n",
       "                                                    max_leaf_nodes=None,\n",
       "                                                    max_samples=None,\n",
       "                                                    min_impurity_decrease=0.0,\n",
       "                                                    min_impurity_split=None,\n",
       "                                                    min_samples_leaf=1,\n",
       "                                                    min_samples_split=2,\n",
       "                                                    min_weight_fraction_leaf=0.0,\n",
       "                                                    n_estimators=100,\n",
       "                                                    n_jobs...\n",
       "                   iid='deprecated', n_iter=15, n_jobs=-1,\n",
       "                   param_distributions={'bootstrap': [True, False],\n",
       "                                        'criterion': ['gini', 'entropy'],\n",
       "                                        'max_depth': [10, 20, 30, 40],\n",
       "                                        'min_samples_split': [2, 3, 4, 5, 6, 7,\n",
       "                                                              8, 9],\n",
       "                                        'n_estimators': [100, 147, 194, 242,\n",
       "                                                         289, 336, 384, 431,\n",
       "                                                         478, 526, 573, 621,\n",
       "                                                         668, 715, 763, 810,\n",
       "                                                         857, 905, 952, 1000]},\n",
       "                   pre_dispatch='2*n_jobs', random_state=None, refit=True,\n",
       "                   return_train_score=False, scoring='roc_auc', verbose=0)"
      ]
     },
     "execution_count": 59,
     "metadata": {},
     "output_type": "execute_result"
    }
   ],
   "source": [
    "rfc_param = {\n",
    "    'bootstrap': [True, False],\n",
    "    'criterion' : ['gini', 'entropy'],\n",
    "    'max_depth' : [int(x) for x in np.arange(10,50,10)],\n",
    "    'min_samples_split' : [int(x) for x in np.arange(2,10,1)],\n",
    "    'n_estimators' : [int(x) for x in np.linspace(start=100, stop=1000, num=20)]\n",
    "}\n",
    "\n",
    "rfc_random = RandomizedSearchCV(estimator= rfc,\n",
    "                              param_distributions= rfc_param,\n",
    "                              n_iter=15, cv=5, n_jobs=-1, scoring='roc_auc')\n",
    "rfc_random.fit(X_train, y_train)"
   ]
  },
  {
   "cell_type": "code",
   "execution_count": 60,
   "metadata": {},
   "outputs": [
    {
     "data": {
      "text/plain": [
       "{'n_estimators': 715,\n",
       " 'min_samples_split': 6,\n",
       " 'max_depth': 40,\n",
       " 'criterion': 'entropy',\n",
       " 'bootstrap': True}"
      ]
     },
     "execution_count": 60,
     "metadata": {},
     "output_type": "execute_result"
    }
   ],
   "source": [
    "rfc_random.best_params_"
   ]
  },
  {
   "cell_type": "code",
   "execution_count": 61,
   "metadata": {},
   "outputs": [
    {
     "data": {
      "text/plain": [
       "0.8766519823788547"
      ]
     },
     "execution_count": 61,
     "metadata": {},
     "output_type": "execute_result"
    }
   ],
   "source": [
    "rfc_random.best_estimator_.score(X_train,y_train)"
   ]
  },
  {
   "cell_type": "code",
   "execution_count": null,
   "metadata": {},
   "outputs": [],
   "source": []
  },
  {
   "cell_type": "code",
   "execution_count": 62,
   "metadata": {},
   "outputs": [
    {
     "data": {
      "text/html": [
       "<div>\n",
       "<style scoped>\n",
       "    .dataframe tbody tr th:only-of-type {\n",
       "        vertical-align: middle;\n",
       "    }\n",
       "\n",
       "    .dataframe tbody tr th {\n",
       "        vertical-align: top;\n",
       "    }\n",
       "\n",
       "    .dataframe thead th {\n",
       "        text-align: right;\n",
       "    }\n",
       "</style>\n",
       "<table border=\"1\" class=\"dataframe\">\n",
       "  <thead>\n",
       "    <tr style=\"text-align: right;\">\n",
       "      <th></th>\n",
       "      <th>model</th>\n",
       "      <th>scores</th>\n",
       "    </tr>\n",
       "  </thead>\n",
       "  <tbody>\n",
       "    <tr>\n",
       "      <th>0</th>\n",
       "      <td>Logistic Regression</td>\n",
       "      <td>0.731278</td>\n",
       "    </tr>\n",
       "    <tr>\n",
       "      <th>1</th>\n",
       "      <td>Decision Tree</td>\n",
       "      <td>0.801762</td>\n",
       "    </tr>\n",
       "    <tr>\n",
       "      <th>2</th>\n",
       "      <td>Random Forest</td>\n",
       "      <td>0.876652</td>\n",
       "    </tr>\n",
       "  </tbody>\n",
       "</table>\n",
       "</div>"
      ],
      "text/plain": [
       "                 model    scores\n",
       "0  Logistic Regression  0.731278\n",
       "1        Decision Tree  0.801762\n",
       "2        Random Forest  0.876652"
      ]
     },
     "execution_count": 62,
     "metadata": {},
     "output_type": "execute_result"
    }
   ],
   "source": [
    "best_lr = logreg_random.best_estimator_\n",
    "best_dtr = dtr_random.best_estimator_\n",
    "best_rfc = rfc_random.best_estimator_\n",
    "scores = []\n",
    "for model in [best_lr, best_dtr, best_rfc]:\n",
    "    scores.append(model.score(X_train, y_train))\n",
    "\n",
    "scores_df = pd.DataFrame({'model': ['Logistic Regression', 'Decision Tree', 'Random Forest'], 'scores': scores})\n",
    "scores_df"
   ]
  },
  {
   "cell_type": "code",
   "execution_count": null,
   "metadata": {},
   "outputs": [],
   "source": []
  },
  {
   "cell_type": "code",
   "execution_count": null,
   "metadata": {},
   "outputs": [],
   "source": []
  },
  {
   "cell_type": "markdown",
   "metadata": {},
   "source": [
    "## Logistic Regression"
   ]
  },
  {
   "cell_type": "code",
   "execution_count": 63,
   "metadata": {},
   "outputs": [
    {
     "name": "stdout",
     "output_type": "stream",
     "text": [
      "              precision    recall  f1-score   support\n",
      "\n",
      "         0.0       0.74      0.95      0.83        39\n",
      "         1.0       0.71      0.28      0.40        18\n",
      "\n",
      "    accuracy                           0.74        57\n",
      "   macro avg       0.73      0.61      0.62        57\n",
      "weighted avg       0.73      0.74      0.70        57\n",
      "\n",
      "[[37  2]\n",
      " [13  5]]\n"
     ]
    }
   ],
   "source": [
    "predict_lr = best_lr.predict(X_test)\n",
    "proba_lr = best_lr.predict_proba(X_test)\n",
    "print(classification_report(y_test, predict_lr))\n",
    "print(confusion_matrix(y_test, predict_lr))"
   ]
  },
  {
   "cell_type": "markdown",
   "metadata": {},
   "source": [
    "## Decision Tree"
   ]
  },
  {
   "cell_type": "code",
   "execution_count": 64,
   "metadata": {},
   "outputs": [
    {
     "name": "stdout",
     "output_type": "stream",
     "text": [
      "              precision    recall  f1-score   support\n",
      "\n",
      "         0.0       0.71      0.87      0.78        39\n",
      "         1.0       0.44      0.22      0.30        18\n",
      "\n",
      "    accuracy                           0.67        57\n",
      "   macro avg       0.58      0.55      0.54        57\n",
      "weighted avg       0.62      0.67      0.63        57\n",
      "\n",
      "[[34  5]\n",
      " [14  4]]\n"
     ]
    }
   ],
   "source": [
    "predict_dtr = best_dtr.predict(X_test)\n",
    "proba_dtr = best_dtr.predict_proba(X_test)\n",
    "print(classification_report(y_test, predict_dtr))\n",
    "print(confusion_matrix(y_test, predict_dtr))"
   ]
  },
  {
   "cell_type": "markdown",
   "metadata": {},
   "source": [
    "## Random Forest"
   ]
  },
  {
   "cell_type": "code",
   "execution_count": 65,
   "metadata": {},
   "outputs": [
    {
     "name": "stdout",
     "output_type": "stream",
     "text": [
      "              precision    recall  f1-score   support\n",
      "\n",
      "         0.0       0.74      0.87      0.80        39\n",
      "         1.0       0.55      0.33      0.41        18\n",
      "\n",
      "    accuracy                           0.70        57\n",
      "   macro avg       0.64      0.60      0.61        57\n",
      "weighted avg       0.68      0.70      0.68        57\n",
      "\n",
      "[[34  5]\n",
      " [12  6]]\n"
     ]
    }
   ],
   "source": [
    "predict_rfc = best_rfc.predict(X_test)\n",
    "proba_rfc = best_rfc.predict_proba(X_test)\n",
    "print(classification_report(y_test, predict_rfc))\n",
    "print(confusion_matrix(y_test, predict_rfc))"
   ]
  },
  {
   "cell_type": "code",
   "execution_count": null,
   "metadata": {},
   "outputs": [],
   "source": []
  },
  {
   "cell_type": "code",
   "execution_count": 66,
   "metadata": {},
   "outputs": [],
   "source": [
    "prob1_lr = proba_lr[:,1]\n",
    "fpr_lr, tpr_lr, thres_lr = roc_curve(y_test, prob1_lr)\n",
    "roc_auc_lr = auc(fpr_lr, tpr_lr)\n",
    "\n",
    "prob1_dtr = proba_dtr[:,1]\n",
    "fpr_dtr, tpr_dtr, thres_dtr = roc_curve(y_test, prob1_dtr)\n",
    "roc_auc_dtr = auc(fpr_dtr, tpr_dtr)\n",
    "\n",
    "prob1_rfc = proba_rfc[:,1]\n",
    "fpr_rfc, tpr_rfc, thres_rfc = roc_curve(y_test, prob1_rfc)\n",
    "roc_auc_rfc = auc(fpr_rfc, tpr_rfc)"
   ]
  },
  {
   "cell_type": "code",
   "execution_count": 67,
   "metadata": {},
   "outputs": [
    {
     "data": {
      "text/plain": [
       "<matplotlib.legend.Legend at 0x2314c0ca4c8>"
      ]
     },
     "execution_count": 67,
     "metadata": {},
     "output_type": "execute_result"
    },
    {
     "data": {
      "image/png": "[encoded data removed]",
      "text/plain": [
       "<Figure size 1440x720 with 3 Axes>"
      ]
     },
     "metadata": {
      "needs_background": "light"
     },
     "output_type": "display_data"
    }
   ],
   "source": [
    "plt.figure(figsize=(20,10))\n",
    "plt.subplot(131)\n",
    "plt.title('ROC AUC Logistic Regression')\n",
    "plt.plot(fpr_lr, tpr_lr, 'blue', label='AUC Logistic Regression = {}'.format(round(roc_auc_lr,4)))\n",
    "plt.plot([0,1],[0,1], 'r--')\n",
    "plt.xlim([0,1])\n",
    "plt.ylim([0,1])\n",
    "plt.xlabel('False Positive Rate')\n",
    "plt.ylabel('True Positive Rate')\n",
    "plt.fill_between(fpr_lr,tpr_lr, 0, facecolor='azure', alpha=1)\n",
    "plt.legend(loc = 'lower right')\n",
    "\n",
    "plt.subplot(132)\n",
    "plt.title('ROC AUC Decision Tree')\n",
    "plt.plot(fpr_dtr, tpr_dtr, 'red', label='AUC Decision Tree = {}'.format(round(roc_auc_dtr,4)))\n",
    "plt.plot([0,1],[0,1], 'r--')\n",
    "plt.xlim([0,1])\n",
    "plt.ylim([0,1])\n",
    "plt.xlabel('False Positive Rate')\n",
    "plt.ylabel('True Positive Rate')\n",
    "plt.fill_between(fpr_dtr,tpr_dtr, 0, facecolor='pink', alpha=1)\n",
    "plt.legend(loc = 'lower right')\n",
    "\n",
    "plt.subplot(133)\n",
    "plt.title('ROC AUC Random Forest')\n",
    "plt.plot(fpr_rfc, tpr_rfc, 'brown', label='AUC Random Forest = {}'.format(round(roc_auc_rfc,4)))\n",
    "plt.plot([0,1],[0,1], 'r--')\n",
    "plt.xlim([0,1])\n",
    "plt.ylim([0,1])\n",
    "plt.xlabel('False Positive Rate')\n",
    "plt.ylabel('True Positive Rate')\n",
    "plt.fill_between(fpr_rfc,tpr_rfc, 0, facecolor='orange', alpha=1)\n",
    "plt.legend(loc = 'lower right')"
   ]
  },
  {
   "cell_type": "markdown",
   "metadata": {},
   "source": [
    "Saya memilih mengurangi probabilitas model melakukan False Negative.\n",
    "Karena tidak ingin model melakukan kesalahan untuk memprediksi pasien negative (0) namun ternyata positif recurrent atau tidak terdeteksi.\n"
   ]
  },
  {
   "cell_type": "code",
   "execution_count": null,
   "metadata": {},
   "outputs": [],
   "source": []
  },
  {
   "cell_type": "code",
   "execution_count": 68,
   "metadata": {},
   "outputs": [],
   "source": [
    "sm = SMOTE(random_state=42)\n",
    "X_sm, y_sm = sm.fit_resample(X_train,y_train)"
   ]
  },
  {
   "cell_type": "code",
   "execution_count": 69,
   "metadata": {},
   "outputs": [
    {
     "data": {
      "text/html": [
       "<div>\n",
       "<style scoped>\n",
       "    .dataframe tbody tr th:only-of-type {\n",
       "        vertical-align: middle;\n",
       "    }\n",
       "\n",
       "    .dataframe tbody tr th {\n",
       "        vertical-align: top;\n",
       "    }\n",
       "\n",
       "    .dataframe thead th {\n",
       "        text-align: right;\n",
       "    }\n",
       "</style>\n",
       "<table border=\"1\" class=\"dataframe\">\n",
       "  <thead>\n",
       "    <tr style=\"text-align: right;\">\n",
       "      <th></th>\n",
       "      <th>age</th>\n",
       "      <th>menopause</th>\n",
       "      <th>tumor_size</th>\n",
       "      <th>inv_nodes</th>\n",
       "      <th>node_caps</th>\n",
       "      <th>deg_malig</th>\n",
       "      <th>breast</th>\n",
       "      <th>breast_quad</th>\n",
       "      <th>irradiat</th>\n",
       "    </tr>\n",
       "  </thead>\n",
       "  <tbody>\n",
       "    <tr>\n",
       "      <th>0</th>\n",
       "      <td>1.000000</td>\n",
       "      <td>1.0</td>\n",
       "      <td>0.000000</td>\n",
       "      <td>0.0</td>\n",
       "      <td>0.00000</td>\n",
       "      <td>1.000000</td>\n",
       "      <td>1.0</td>\n",
       "      <td>0.000000</td>\n",
       "      <td>0.000000</td>\n",
       "    </tr>\n",
       "    <tr>\n",
       "      <th>1</th>\n",
       "      <td>0.000000</td>\n",
       "      <td>1.0</td>\n",
       "      <td>-1.000000</td>\n",
       "      <td>0.0</td>\n",
       "      <td>0.00000</td>\n",
       "      <td>0.000000</td>\n",
       "      <td>1.0</td>\n",
       "      <td>0.500000</td>\n",
       "      <td>0.000000</td>\n",
       "    </tr>\n",
       "    <tr>\n",
       "      <th>2</th>\n",
       "      <td>0.000000</td>\n",
       "      <td>1.0</td>\n",
       "      <td>1.500000</td>\n",
       "      <td>1.0</td>\n",
       "      <td>1.00000</td>\n",
       "      <td>0.000000</td>\n",
       "      <td>0.0</td>\n",
       "      <td>0.000000</td>\n",
       "      <td>0.000000</td>\n",
       "    </tr>\n",
       "    <tr>\n",
       "      <th>3</th>\n",
       "      <td>1.000000</td>\n",
       "      <td>1.0</td>\n",
       "      <td>0.500000</td>\n",
       "      <td>0.0</td>\n",
       "      <td>0.00000</td>\n",
       "      <td>-1.000000</td>\n",
       "      <td>1.0</td>\n",
       "      <td>-0.500000</td>\n",
       "      <td>0.000000</td>\n",
       "    </tr>\n",
       "    <tr>\n",
       "      <th>4</th>\n",
       "      <td>-2.000000</td>\n",
       "      <td>0.0</td>\n",
       "      <td>0.500000</td>\n",
       "      <td>3.0</td>\n",
       "      <td>0.00000</td>\n",
       "      <td>0.000000</td>\n",
       "      <td>1.0</td>\n",
       "      <td>-0.500000</td>\n",
       "      <td>1.000000</td>\n",
       "    </tr>\n",
       "    <tr>\n",
       "      <th>...</th>\n",
       "      <td>...</td>\n",
       "      <td>...</td>\n",
       "      <td>...</td>\n",
       "      <td>...</td>\n",
       "      <td>...</td>\n",
       "      <td>...</td>\n",
       "      <td>...</td>\n",
       "      <td>...</td>\n",
       "      <td>...</td>\n",
       "    </tr>\n",
       "    <tr>\n",
       "      <th>317</th>\n",
       "      <td>0.000000</td>\n",
       "      <td>2.0</td>\n",
       "      <td>-0.500000</td>\n",
       "      <td>0.0</td>\n",
       "      <td>0.00000</td>\n",
       "      <td>-1.000000</td>\n",
       "      <td>0.0</td>\n",
       "      <td>-0.070821</td>\n",
       "      <td>0.000000</td>\n",
       "    </tr>\n",
       "    <tr>\n",
       "      <th>318</th>\n",
       "      <td>-2.000000</td>\n",
       "      <td>0.0</td>\n",
       "      <td>-0.162979</td>\n",
       "      <td>1.0</td>\n",
       "      <td>1.00000</td>\n",
       "      <td>0.674041</td>\n",
       "      <td>0.0</td>\n",
       "      <td>0.000000</td>\n",
       "      <td>0.674041</td>\n",
       "    </tr>\n",
       "    <tr>\n",
       "      <th>319</th>\n",
       "      <td>0.000000</td>\n",
       "      <td>0.0</td>\n",
       "      <td>-0.779759</td>\n",
       "      <td>0.0</td>\n",
       "      <td>0.00000</td>\n",
       "      <td>0.000000</td>\n",
       "      <td>0.0</td>\n",
       "      <td>0.110121</td>\n",
       "      <td>0.000000</td>\n",
       "    </tr>\n",
       "    <tr>\n",
       "      <th>320</th>\n",
       "      <td>-1.000000</td>\n",
       "      <td>0.0</td>\n",
       "      <td>0.500000</td>\n",
       "      <td>1.0</td>\n",
       "      <td>0.71115</td>\n",
       "      <td>0.000000</td>\n",
       "      <td>1.0</td>\n",
       "      <td>-0.144425</td>\n",
       "      <td>0.000000</td>\n",
       "    </tr>\n",
       "    <tr>\n",
       "      <th>321</th>\n",
       "      <td>-0.809501</td>\n",
       "      <td>1.0</td>\n",
       "      <td>0.500000</td>\n",
       "      <td>1.0</td>\n",
       "      <td>0.00000</td>\n",
       "      <td>1.000000</td>\n",
       "      <td>0.0</td>\n",
       "      <td>0.000000</td>\n",
       "      <td>0.000000</td>\n",
       "    </tr>\n",
       "  </tbody>\n",
       "</table>\n",
       "<p>322 rows × 9 columns</p>\n",
       "</div>"
      ],
      "text/plain": [
       "          age  menopause  tumor_size  inv_nodes  node_caps  deg_malig  breast  \\\n",
       "0    1.000000        1.0    0.000000        0.0    0.00000   1.000000     1.0   \n",
       "1    0.000000        1.0   -1.000000        0.0    0.00000   0.000000     1.0   \n",
       "2    0.000000        1.0    1.500000        1.0    1.00000   0.000000     0.0   \n",
       "3    1.000000        1.0    0.500000        0.0    0.00000  -1.000000     1.0   \n",
       "4   -2.000000        0.0    0.500000        3.0    0.00000   0.000000     1.0   \n",
       "..        ...        ...         ...        ...        ...        ...     ...   \n",
       "317  0.000000        2.0   -0.500000        0.0    0.00000  -1.000000     0.0   \n",
       "318 -2.000000        0.0   -0.162979        1.0    1.00000   0.674041     0.0   \n",
       "319  0.000000        0.0   -0.779759        0.0    0.00000   0.000000     0.0   \n",
       "320 -1.000000        0.0    0.500000        1.0    0.71115   0.000000     1.0   \n",
       "321 -0.809501        1.0    0.500000        1.0    0.00000   1.000000     0.0   \n",
       "\n",
       "     breast_quad  irradiat  \n",
       "0       0.000000  0.000000  \n",
       "1       0.500000  0.000000  \n",
       "2       0.000000  0.000000  \n",
       "3      -0.500000  0.000000  \n",
       "4      -0.500000  1.000000  \n",
       "..           ...       ...  \n",
       "317    -0.070821  0.000000  \n",
       "318     0.000000  0.674041  \n",
       "319     0.110121  0.000000  \n",
       "320    -0.144425  0.000000  \n",
       "321     0.000000  0.000000  \n",
       "\n",
       "[322 rows x 9 columns]"
      ]
     },
     "execution_count": 69,
     "metadata": {},
     "output_type": "execute_result"
    }
   ],
   "source": [
    "X_sm"
   ]
  },
  {
   "cell_type": "code",
   "execution_count": 70,
   "metadata": {},
   "outputs": [
    {
     "data": {
      "text/plain": [
       "1.0    161\n",
       "0.0    161\n",
       "Name: class, dtype: int64"
      ]
     },
     "execution_count": 70,
     "metadata": {},
     "output_type": "execute_result"
    }
   ],
   "source": [
    "y_sm.value_counts()"
   ]
  },
  {
   "cell_type": "code",
   "execution_count": 71,
   "metadata": {},
   "outputs": [
    {
     "data": {
      "text/plain": [
       "LogisticRegression(C=1.0, class_weight=None, dual=False, fit_intercept=True,\n",
       "                   intercept_scaling=1, l1_ratio=None, max_iter=100,\n",
       "                   multi_class='auto', n_jobs=None, penalty='l2',\n",
       "                   random_state=None, solver='lbfgs', tol=0.0001, verbose=0,\n",
       "                   warm_start=False)"
      ]
     },
     "execution_count": 71,
     "metadata": {},
     "output_type": "execute_result"
    }
   ],
   "source": [
    "lr_sm = LogisticRegression()\n",
    "lr_sm.fit(X_sm, y_sm)"
   ]
  },
  {
   "cell_type": "code",
   "execution_count": 72,
   "metadata": {},
   "outputs": [
    {
     "name": "stdout",
     "output_type": "stream",
     "text": [
      "              precision    recall  f1-score   support\n",
      "\n",
      "         0.0       0.76      0.64      0.69        39\n",
      "         1.0       0.42      0.56      0.48        18\n",
      "\n",
      "    accuracy                           0.61        57\n",
      "   macro avg       0.59      0.60      0.59        57\n",
      "weighted avg       0.65      0.61      0.63        57\n",
      "\n",
      "[[25 14]\n",
      " [ 8 10]]\n"
     ]
    }
   ],
   "source": [
    "pred_lrsm = lr_sm.predict(X_test)\n",
    "proba_lrsm = lr_sm.predict_proba(X_test)\n",
    "print(classification_report(y_test, pred_lrsm))\n",
    "print(confusion_matrix(y_test, pred_lrsm))"
   ]
  },
  {
   "cell_type": "code",
   "execution_count": 73,
   "metadata": {
    "scrolled": true
   },
   "outputs": [
    {
     "name": "stdout",
     "output_type": "stream",
     "text": [
      "              precision    recall  f1-score   support\n",
      "\n",
      "         0.0       0.74      0.95      0.83        39\n",
      "         1.0       0.71      0.28      0.40        18\n",
      "\n",
      "    accuracy                           0.74        57\n",
      "   macro avg       0.73      0.61      0.62        57\n",
      "weighted avg       0.73      0.74      0.70        57\n",
      "\n",
      "[[37  2]\n",
      " [13  5]]\n"
     ]
    }
   ],
   "source": [
    "# compare with previous Logistic Regression model\n",
    "print(classification_report(y_test, predict_lr))\n",
    "print(confusion_matrix(y_test, predict_lr))"
   ]
  },
  {
   "cell_type": "code",
   "execution_count": null,
   "metadata": {},
   "outputs": [],
   "source": [
    "# Logistic regression yang telah di-SMOTE menghasilkan acurracy lebih baik"
   ]
  },
  {
   "cell_type": "code",
   "execution_count": null,
   "metadata": {},
   "outputs": [],
   "source": []
  },
  {
   "cell_type": "code",
   "execution_count": 74,
   "metadata": {},
   "outputs": [
    {
     "data": {
      "text/plain": [
       "array([[0.72317461, 0.27682539],\n",
       "       [0.46485995, 0.53514005],\n",
       "       [0.56928118, 0.43071882],\n",
       "       [0.57233084, 0.42766916],\n",
       "       [0.41075384, 0.58924616],\n",
       "       [0.65239891, 0.34760109],\n",
       "       [0.48269834, 0.51730166],\n",
       "       [0.32978459, 0.67021541],\n",
       "       [0.66429258, 0.33570742],\n",
       "       [0.67719704, 0.32280296],\n",
       "       [0.13117269, 0.86882731],\n",
       "       [0.63790605, 0.36209395],\n",
       "       [0.46023693, 0.53976307],\n",
       "       [0.54254662, 0.45745338],\n",
       "       [0.6093302 , 0.3906698 ],\n",
       "       [0.71757679, 0.28242321],\n",
       "       [0.40968456, 0.59031544],\n",
       "       [0.26537684, 0.73462316],\n",
       "       [0.76529167, 0.23470833],\n",
       "       [0.18313966, 0.81686034],\n",
       "       [0.51254135, 0.48745865],\n",
       "       [0.09675149, 0.90324851],\n",
       "       [0.24709616, 0.75290384],\n",
       "       [0.52900798, 0.47099202],\n",
       "       [0.4136129 , 0.5863871 ],\n",
       "       [0.41386065, 0.58613935],\n",
       "       [0.21526173, 0.78473827],\n",
       "       [0.60480529, 0.39519471],\n",
       "       [0.67659744, 0.32340256],\n",
       "       [0.54237879, 0.45762121],\n",
       "       [0.6356724 , 0.3643276 ],\n",
       "       [0.31663195, 0.68336805],\n",
       "       [0.6563296 , 0.3436704 ],\n",
       "       [0.33771305, 0.66228695],\n",
       "       [0.54834697, 0.45165303],\n",
       "       [0.22859976, 0.77140024],\n",
       "       [0.72809379, 0.27190621],\n",
       "       [0.738549  , 0.261451  ],\n",
       "       [0.52997524, 0.47002476],\n",
       "       [0.51774313, 0.48225687],\n",
       "       [0.73723455, 0.26276545],\n",
       "       [0.6093302 , 0.3906698 ],\n",
       "       [0.42119015, 0.57880985],\n",
       "       [0.86328089, 0.13671911],\n",
       "       [0.66830164, 0.33169836],\n",
       "       [0.5870004 , 0.4129996 ],\n",
       "       [0.19717888, 0.80282112],\n",
       "       [0.3694502 , 0.6305498 ],\n",
       "       [0.7212371 , 0.2787629 ],\n",
       "       [0.574693  , 0.425307  ],\n",
       "       [0.56583659, 0.43416341],\n",
       "       [0.16285394, 0.83714606],\n",
       "       [0.84053002, 0.15946998],\n",
       "       [0.72281932, 0.27718068],\n",
       "       [0.33845205, 0.66154795],\n",
       "       [0.27839916, 0.72160084],\n",
       "       [0.3554061 , 0.6445939 ]])"
      ]
     },
     "execution_count": 74,
     "metadata": {},
     "output_type": "execute_result"
    }
   ],
   "source": [
    "proba_lrsm"
   ]
  },
  {
   "cell_type": "code",
   "execution_count": null,
   "metadata": {},
   "outputs": [],
   "source": []
  },
  {
   "cell_type": "code",
   "execution_count": 75,
   "metadata": {},
   "outputs": [],
   "source": [
    "from sklearn.metrics import precision_score, recall_score\n",
    "threshold = [0.5, 0.55, 0.65, 0.7, 0.75]\n",
    "precision = []\n",
    "recall = []\n",
    "for thres in threshold:\n",
    "    pred = []\n",
    "    for prob in proba_lrsm[:,1]:\n",
    "        if prob>thres:\n",
    "            pred.append(1)\n",
    "        else:\n",
    "            pred.append(0)\n",
    "    precision.append(round(precision_score(y_test, pred, pos_label=0),5))\n",
    "    recall.append(round(recall_score(y_test, pred, pos_label=1),5))"
   ]
  },
  {
   "cell_type": "code",
   "execution_count": 76,
   "metadata": {},
   "outputs": [
    {
     "name": "stdout",
     "output_type": "stream",
     "text": [
      "[0.5, 0.55, 0.65, 0.7, 0.75]\n",
      "[0.75758, 0.77778, 0.76744, 0.76596, 0.7551]\n",
      "[0.55556, 0.55556, 0.44444, 0.38889, 0.33333]\n"
     ]
    }
   ],
   "source": [
    "print(threshold)\n",
    "print(precision)\n",
    "print(recall)"
   ]
  },
  {
   "cell_type": "code",
   "execution_count": 77,
   "metadata": {},
   "outputs": [
    {
     "name": "stdout",
     "output_type": "stream",
     "text": [
      "              precision    recall  f1-score   support\n",
      "\n",
      "         0.0       0.76      0.64      0.69        39\n",
      "         1.0       0.42      0.56      0.48        18\n",
      "\n",
      "    accuracy                           0.61        57\n",
      "   macro avg       0.59      0.60      0.59        57\n",
      "weighted avg       0.65      0.61      0.63        57\n",
      "\n",
      "[[25 14]\n",
      " [ 8 10]]\n"
     ]
    }
   ],
   "source": [
    "print(classification_report(y_test, pred_lrsm))\n",
    "print(confusion_matrix(y_test, pred_lrsm))"
   ]
  },
  {
   "cell_type": "code",
   "execution_count": 78,
   "metadata": {},
   "outputs": [
    {
     "data": {
      "text/html": [
       "<div>\n",
       "<style scoped>\n",
       "    .dataframe tbody tr th:only-of-type {\n",
       "        vertical-align: middle;\n",
       "    }\n",
       "\n",
       "    .dataframe tbody tr th {\n",
       "        vertical-align: top;\n",
       "    }\n",
       "\n",
       "    .dataframe thead th {\n",
       "        text-align: right;\n",
       "    }\n",
       "</style>\n",
       "<table border=\"1\" class=\"dataframe\">\n",
       "  <thead>\n",
       "    <tr style=\"text-align: right;\">\n",
       "      <th></th>\n",
       "      <th>threshold</th>\n",
       "      <th>precision-</th>\n",
       "      <th>recall+</th>\n",
       "    </tr>\n",
       "  </thead>\n",
       "  <tbody>\n",
       "    <tr>\n",
       "      <th>0</th>\n",
       "      <td>0.50</td>\n",
       "      <td>0.75758</td>\n",
       "      <td>0.55556</td>\n",
       "    </tr>\n",
       "    <tr>\n",
       "      <th>1</th>\n",
       "      <td>0.55</td>\n",
       "      <td>0.77778</td>\n",
       "      <td>0.55556</td>\n",
       "    </tr>\n",
       "    <tr>\n",
       "      <th>2</th>\n",
       "      <td>0.65</td>\n",
       "      <td>0.76744</td>\n",
       "      <td>0.44444</td>\n",
       "    </tr>\n",
       "    <tr>\n",
       "      <th>3</th>\n",
       "      <td>0.70</td>\n",
       "      <td>0.76596</td>\n",
       "      <td>0.38889</td>\n",
       "    </tr>\n",
       "    <tr>\n",
       "      <th>4</th>\n",
       "      <td>0.75</td>\n",
       "      <td>0.75510</td>\n",
       "      <td>0.33333</td>\n",
       "    </tr>\n",
       "  </tbody>\n",
       "</table>\n",
       "</div>"
      ],
      "text/plain": [
       "   threshold  precision-  recall+\n",
       "0       0.50     0.75758  0.55556\n",
       "1       0.55     0.77778  0.55556\n",
       "2       0.65     0.76744  0.44444\n",
       "3       0.70     0.76596  0.38889\n",
       "4       0.75     0.75510  0.33333"
      ]
     },
     "execution_count": 78,
     "metadata": {},
     "output_type": "execute_result"
    }
   ],
   "source": [
    "thres_df = pd.DataFrame({'threshold': threshold, 'precision-': precision, 'recall+': recall})\n",
    "thres_df"
   ]
  },
  {
   "cell_type": "code",
   "execution_count": 79,
   "metadata": {
    "scrolled": true
   },
   "outputs": [
    {
     "data": {
      "image/png": "[encoded data removed]",
      "text/plain": [
       "<Figure size 432x288 with 1 Axes>"
      ]
     },
     "metadata": {
      "needs_background": "light"
     },
     "output_type": "display_data"
    }
   ],
   "source": [
    "plt.plot(thres_df['threshold'], thres_df['precision-'], label='precision(-)')\n",
    "plt.plot(thres_df['threshold'], thres_df['recall+'], label='recall(+)')\n",
    "plt.xlabel('Threshold')\n",
    "plt.ylabel('Score')\n",
    "plt.legend()\n",
    "plt.grid()\n",
    "plt.show()"
   ]
  },
  {
   "cell_type": "code",
   "execution_count": null,
   "metadata": {},
   "outputs": [],
   "source": [
    "# best threshold 0.55"
   ]
  },
  {
   "cell_type": "code",
   "execution_count": null,
   "metadata": {},
   "outputs": [],
   "source": []
  },
  {
   "cell_type": "code",
   "execution_count": null,
   "metadata": {},
   "outputs": [],
   "source": []
  },
  {
   "cell_type": "code",
   "execution_count": null,
   "metadata": {},
   "outputs": [],
   "source": []
  },
  {
   "cell_type": "code",
   "execution_count": 80,
   "metadata": {
    "scrolled": true
   },
   "outputs": [
    {
     "data": {
      "text/plain": [
       "Index(['age', 'menopause', 'tumor_size', 'inv_nodes', 'node_caps', 'deg_malig',\n",
       "       'breast', 'breast_quad', 'irradiat'],\n",
       "      dtype='object')"
      ]
     },
     "execution_count": 80,
     "metadata": {},
     "output_type": "execute_result"
    }
   ],
   "source": [
    "X_sm.columns"
   ]
  },
  {
   "cell_type": "code",
   "execution_count": 81,
   "metadata": {},
   "outputs": [
    {
     "data": {
      "text/plain": [
       "Index(['age', 'menopause', 'tumor_size', 'inv_nodes', 'node_caps', 'deg_malig',\n",
       "       'breast', 'breast_quad', 'irradiat', 'class'],\n",
       "      dtype='object')"
      ]
     },
     "execution_count": 81,
     "metadata": {},
     "output_type": "execute_result"
    }
   ],
   "source": [
    "scaled_df.columns"
   ]
  },
  {
   "cell_type": "code",
   "execution_count": 82,
   "metadata": {},
   "outputs": [
    {
     "data": {
      "text/html": [
       "<div>\n",
       "<style scoped>\n",
       "    .dataframe tbody tr th:only-of-type {\n",
       "        vertical-align: middle;\n",
       "    }\n",
       "\n",
       "    .dataframe tbody tr th {\n",
       "        vertical-align: top;\n",
       "    }\n",
       "\n",
       "    .dataframe thead th {\n",
       "        text-align: right;\n",
       "    }\n",
       "</style>\n",
       "<table border=\"1\" class=\"dataframe\">\n",
       "  <thead>\n",
       "    <tr style=\"text-align: right;\">\n",
       "      <th></th>\n",
       "      <th>age</th>\n",
       "      <th>menopause</th>\n",
       "      <th>tumor_size</th>\n",
       "      <th>inv_nodes</th>\n",
       "      <th>node_caps</th>\n",
       "      <th>deg_malig</th>\n",
       "      <th>breast</th>\n",
       "      <th>breast_quad</th>\n",
       "      <th>irradiat</th>\n",
       "    </tr>\n",
       "  </thead>\n",
       "  <tbody>\n",
       "    <tr>\n",
       "      <th>0</th>\n",
       "      <td>-1.0</td>\n",
       "      <td>0.0</td>\n",
       "      <td>-1.0</td>\n",
       "      <td>0.0</td>\n",
       "      <td>1.0</td>\n",
       "      <td>1.0</td>\n",
       "      <td>1.0</td>\n",
       "      <td>-0.5</td>\n",
       "      <td>0.0</td>\n",
       "    </tr>\n",
       "    <tr>\n",
       "      <th>1</th>\n",
       "      <td>0.0</td>\n",
       "      <td>1.0</td>\n",
       "      <td>-1.0</td>\n",
       "      <td>0.0</td>\n",
       "      <td>0.0</td>\n",
       "      <td>-1.0</td>\n",
       "      <td>1.0</td>\n",
       "      <td>1.5</td>\n",
       "      <td>0.0</td>\n",
       "    </tr>\n",
       "    <tr>\n",
       "      <th>2</th>\n",
       "      <td>0.0</td>\n",
       "      <td>1.0</td>\n",
       "      <td>1.0</td>\n",
       "      <td>0.0</td>\n",
       "      <td>0.0</td>\n",
       "      <td>0.0</td>\n",
       "      <td>0.0</td>\n",
       "      <td>0.0</td>\n",
       "      <td>0.0</td>\n",
       "    </tr>\n",
       "    <tr>\n",
       "      <th>3</th>\n",
       "      <td>-1.0</td>\n",
       "      <td>0.0</td>\n",
       "      <td>1.0</td>\n",
       "      <td>0.0</td>\n",
       "      <td>1.0</td>\n",
       "      <td>1.0</td>\n",
       "      <td>1.0</td>\n",
       "      <td>0.0</td>\n",
       "      <td>1.0</td>\n",
       "    </tr>\n",
       "    <tr>\n",
       "      <th>4</th>\n",
       "      <td>-1.0</td>\n",
       "      <td>0.0</td>\n",
       "      <td>0.5</td>\n",
       "      <td>1.0</td>\n",
       "      <td>1.0</td>\n",
       "      <td>0.0</td>\n",
       "      <td>0.0</td>\n",
       "      <td>0.5</td>\n",
       "      <td>0.0</td>\n",
       "    </tr>\n",
       "    <tr>\n",
       "      <th>...</th>\n",
       "      <td>...</td>\n",
       "      <td>...</td>\n",
       "      <td>...</td>\n",
       "      <td>...</td>\n",
       "      <td>...</td>\n",
       "      <td>...</td>\n",
       "      <td>...</td>\n",
       "      <td>...</td>\n",
       "      <td>...</td>\n",
       "    </tr>\n",
       "    <tr>\n",
       "      <th>280</th>\n",
       "      <td>0.0</td>\n",
       "      <td>1.0</td>\n",
       "      <td>0.5</td>\n",
       "      <td>2.0</td>\n",
       "      <td>1.0</td>\n",
       "      <td>0.0</td>\n",
       "      <td>0.0</td>\n",
       "      <td>0.0</td>\n",
       "      <td>0.0</td>\n",
       "    </tr>\n",
       "    <tr>\n",
       "      <th>281</th>\n",
       "      <td>0.0</td>\n",
       "      <td>0.0</td>\n",
       "      <td>0.0</td>\n",
       "      <td>1.0</td>\n",
       "      <td>1.0</td>\n",
       "      <td>0.0</td>\n",
       "      <td>0.0</td>\n",
       "      <td>0.0</td>\n",
       "      <td>1.0</td>\n",
       "    </tr>\n",
       "    <tr>\n",
       "      <th>282</th>\n",
       "      <td>-2.0</td>\n",
       "      <td>0.0</td>\n",
       "      <td>0.5</td>\n",
       "      <td>2.0</td>\n",
       "      <td>1.0</td>\n",
       "      <td>0.0</td>\n",
       "      <td>1.0</td>\n",
       "      <td>0.5</td>\n",
       "      <td>0.0</td>\n",
       "    </tr>\n",
       "    <tr>\n",
       "      <th>283</th>\n",
       "      <td>0.0</td>\n",
       "      <td>0.0</td>\n",
       "      <td>-1.0</td>\n",
       "      <td>0.0</td>\n",
       "      <td>0.0</td>\n",
       "      <td>0.0</td>\n",
       "      <td>1.0</td>\n",
       "      <td>0.0</td>\n",
       "      <td>0.0</td>\n",
       "    </tr>\n",
       "    <tr>\n",
       "      <th>284</th>\n",
       "      <td>0.0</td>\n",
       "      <td>1.0</td>\n",
       "      <td>1.5</td>\n",
       "      <td>0.0</td>\n",
       "      <td>0.0</td>\n",
       "      <td>1.0</td>\n",
       "      <td>0.0</td>\n",
       "      <td>0.5</td>\n",
       "      <td>0.0</td>\n",
       "    </tr>\n",
       "  </tbody>\n",
       "</table>\n",
       "<p>285 rows × 9 columns</p>\n",
       "</div>"
      ],
      "text/plain": [
       "     age  menopause  tumor_size  inv_nodes  node_caps  deg_malig  breast  \\\n",
       "0   -1.0        0.0        -1.0        0.0        1.0        1.0     1.0   \n",
       "1    0.0        1.0        -1.0        0.0        0.0       -1.0     1.0   \n",
       "2    0.0        1.0         1.0        0.0        0.0        0.0     0.0   \n",
       "3   -1.0        0.0         1.0        0.0        1.0        1.0     1.0   \n",
       "4   -1.0        0.0         0.5        1.0        1.0        0.0     0.0   \n",
       "..   ...        ...         ...        ...        ...        ...     ...   \n",
       "280  0.0        1.0         0.5        2.0        1.0        0.0     0.0   \n",
       "281  0.0        0.0         0.0        1.0        1.0        0.0     0.0   \n",
       "282 -2.0        0.0         0.5        2.0        1.0        0.0     1.0   \n",
       "283  0.0        0.0        -1.0        0.0        0.0        0.0     1.0   \n",
       "284  0.0        1.0         1.5        0.0        0.0        1.0     0.0   \n",
       "\n",
       "     breast_quad  irradiat  \n",
       "0           -0.5       0.0  \n",
       "1            1.5       0.0  \n",
       "2            0.0       0.0  \n",
       "3            0.0       1.0  \n",
       "4            0.5       0.0  \n",
       "..           ...       ...  \n",
       "280          0.0       0.0  \n",
       "281          0.0       1.0  \n",
       "282          0.5       0.0  \n",
       "283          0.0       0.0  \n",
       "284          0.5       0.0  \n",
       "\n",
       "[285 rows x 9 columns]"
      ]
     },
     "execution_count": 82,
     "metadata": {},
     "output_type": "execute_result"
    }
   ],
   "source": [
    "neww = CleanData[['age', 'menopause', 'tumor_size', 'inv_nodes', 'node_caps',\n",
    "       'deg_malig', 'breast', 'breast_quad', 'irradiat']]\n",
    "# after that, scale it\n",
    "scaled_data = robust.transform(neww)\n",
    "scaled = pd.DataFrame(scaled_data, columns=X_sm.columns)\n",
    "scaled"
   ]
  },
  {
   "cell_type": "code",
   "execution_count": 84,
   "metadata": {},
   "outputs": [
    {
     "data": {
      "text/html": [
       "<div>\n",
       "<style scoped>\n",
       "    .dataframe tbody tr th:only-of-type {\n",
       "        vertical-align: middle;\n",
       "    }\n",
       "\n",
       "    .dataframe tbody tr th {\n",
       "        vertical-align: top;\n",
       "    }\n",
       "\n",
       "    .dataframe thead th {\n",
       "        text-align: right;\n",
       "    }\n",
       "</style>\n",
       "<table border=\"1\" class=\"dataframe\">\n",
       "  <thead>\n",
       "    <tr style=\"text-align: right;\">\n",
       "      <th></th>\n",
       "      <th>age</th>\n",
       "      <th>menopause</th>\n",
       "      <th>tumor_size</th>\n",
       "      <th>inv_nodes</th>\n",
       "      <th>node_caps</th>\n",
       "      <th>deg_malig</th>\n",
       "      <th>breast</th>\n",
       "      <th>breast_quad</th>\n",
       "      <th>irradiat</th>\n",
       "      <th>class</th>\n",
       "    </tr>\n",
       "  </thead>\n",
       "  <tbody>\n",
       "    <tr>\n",
       "      <th>0</th>\n",
       "      <td>44.5</td>\n",
       "      <td>1</td>\n",
       "      <td>17</td>\n",
       "      <td>1</td>\n",
       "      <td>1</td>\n",
       "      <td>3</td>\n",
       "      <td>2</td>\n",
       "      <td>1.0</td>\n",
       "      <td>0</td>\n",
       "      <td>1.0</td>\n",
       "    </tr>\n",
       "    <tr>\n",
       "      <th>1</th>\n",
       "      <td>54.5</td>\n",
       "      <td>2</td>\n",
       "      <td>17</td>\n",
       "      <td>1</td>\n",
       "      <td>0</td>\n",
       "      <td>1</td>\n",
       "      <td>2</td>\n",
       "      <td>5.0</td>\n",
       "      <td>0</td>\n",
       "      <td>0.0</td>\n",
       "    </tr>\n",
       "    <tr>\n",
       "      <th>2</th>\n",
       "      <td>54.5</td>\n",
       "      <td>2</td>\n",
       "      <td>37</td>\n",
       "      <td>1</td>\n",
       "      <td>0</td>\n",
       "      <td>2</td>\n",
       "      <td>1</td>\n",
       "      <td>2.0</td>\n",
       "      <td>0</td>\n",
       "      <td>0.0</td>\n",
       "    </tr>\n",
       "    <tr>\n",
       "      <th>3</th>\n",
       "      <td>44.5</td>\n",
       "      <td>1</td>\n",
       "      <td>37</td>\n",
       "      <td>1</td>\n",
       "      <td>1</td>\n",
       "      <td>3</td>\n",
       "      <td>2</td>\n",
       "      <td>2.0</td>\n",
       "      <td>1</td>\n",
       "      <td>1.0</td>\n",
       "    </tr>\n",
       "    <tr>\n",
       "      <th>4</th>\n",
       "      <td>44.5</td>\n",
       "      <td>1</td>\n",
       "      <td>32</td>\n",
       "      <td>4</td>\n",
       "      <td>1</td>\n",
       "      <td>2</td>\n",
       "      <td>1</td>\n",
       "      <td>3.0</td>\n",
       "      <td>0</td>\n",
       "      <td>1.0</td>\n",
       "    </tr>\n",
       "    <tr>\n",
       "      <th>...</th>\n",
       "      <td>...</td>\n",
       "      <td>...</td>\n",
       "      <td>...</td>\n",
       "      <td>...</td>\n",
       "      <td>...</td>\n",
       "      <td>...</td>\n",
       "      <td>...</td>\n",
       "      <td>...</td>\n",
       "      <td>...</td>\n",
       "      <td>...</td>\n",
       "    </tr>\n",
       "    <tr>\n",
       "      <th>281</th>\n",
       "      <td>54.5</td>\n",
       "      <td>2</td>\n",
       "      <td>32</td>\n",
       "      <td>7</td>\n",
       "      <td>1</td>\n",
       "      <td>2</td>\n",
       "      <td>1</td>\n",
       "      <td>2.0</td>\n",
       "      <td>0</td>\n",
       "      <td>1.0</td>\n",
       "    </tr>\n",
       "    <tr>\n",
       "      <th>282</th>\n",
       "      <td>54.5</td>\n",
       "      <td>1</td>\n",
       "      <td>27</td>\n",
       "      <td>4</td>\n",
       "      <td>1</td>\n",
       "      <td>2</td>\n",
       "      <td>1</td>\n",
       "      <td>2.0</td>\n",
       "      <td>1</td>\n",
       "      <td>1.0</td>\n",
       "    </tr>\n",
       "    <tr>\n",
       "      <th>283</th>\n",
       "      <td>34.5</td>\n",
       "      <td>1</td>\n",
       "      <td>32</td>\n",
       "      <td>7</td>\n",
       "      <td>1</td>\n",
       "      <td>2</td>\n",
       "      <td>2</td>\n",
       "      <td>3.0</td>\n",
       "      <td>0</td>\n",
       "      <td>1.0</td>\n",
       "    </tr>\n",
       "    <tr>\n",
       "      <th>284</th>\n",
       "      <td>54.5</td>\n",
       "      <td>1</td>\n",
       "      <td>17</td>\n",
       "      <td>1</td>\n",
       "      <td>0</td>\n",
       "      <td>2</td>\n",
       "      <td>2</td>\n",
       "      <td>2.0</td>\n",
       "      <td>0</td>\n",
       "      <td>0.0</td>\n",
       "    </tr>\n",
       "    <tr>\n",
       "      <th>285</th>\n",
       "      <td>54.5</td>\n",
       "      <td>2</td>\n",
       "      <td>42</td>\n",
       "      <td>1</td>\n",
       "      <td>0</td>\n",
       "      <td>3</td>\n",
       "      <td>1</td>\n",
       "      <td>3.0</td>\n",
       "      <td>0</td>\n",
       "      <td>1.0</td>\n",
       "    </tr>\n",
       "  </tbody>\n",
       "</table>\n",
       "<p>285 rows × 10 columns</p>\n",
       "</div>"
      ],
      "text/plain": [
       "      age  menopause  tumor_size  inv_nodes  node_caps deg_malig  breast  \\\n",
       "0    44.5          1          17          1          1         3       2   \n",
       "1    54.5          2          17          1          0         1       2   \n",
       "2    54.5          2          37          1          0         2       1   \n",
       "3    44.5          1          37          1          1         3       2   \n",
       "4    44.5          1          32          4          1         2       1   \n",
       "..    ...        ...         ...        ...        ...       ...     ...   \n",
       "281  54.5          2          32          7          1         2       1   \n",
       "282  54.5          1          27          4          1         2       1   \n",
       "283  34.5          1          32          7          1         2       2   \n",
       "284  54.5          1          17          1          0         2       2   \n",
       "285  54.5          2          42          1          0         3       1   \n",
       "\n",
       "     breast_quad  irradiat  class  \n",
       "0            1.0         0    1.0  \n",
       "1            5.0         0    0.0  \n",
       "2            2.0         0    0.0  \n",
       "3            2.0         1    1.0  \n",
       "4            3.0         0    1.0  \n",
       "..           ...       ...    ...  \n",
       "281          2.0         0    1.0  \n",
       "282          2.0         1    1.0  \n",
       "283          3.0         0    1.0  \n",
       "284          2.0         0    0.0  \n",
       "285          3.0         0    1.0  \n",
       "\n",
       "[285 rows x 10 columns]"
      ]
     },
     "execution_count": 84,
     "metadata": {},
     "output_type": "execute_result"
    }
   ],
   "source": [
    "neww['class'] = lr_sm.predict(scaled)\n",
    "neww"
   ]
  },
  {
   "cell_type": "code",
   "execution_count": null,
   "metadata": {},
   "outputs": [],
   "source": []
  },
  {
   "cell_type": "code",
   "execution_count": null,
   "metadata": {},
   "outputs": [],
   "source": []
  },
  {
   "cell_type": "markdown",
   "metadata": {},
   "source": [
    "## PCA"
   ]
  },
  {
   "cell_type": "code",
   "execution_count": 85,
   "metadata": {},
   "outputs": [],
   "source": [
    "from sklearn.decomposition import PCA"
   ]
  },
  {
   "cell_type": "code",
   "execution_count": 86,
   "metadata": {},
   "outputs": [],
   "source": [
    "X = scaled_df.drop('class', axis=1)\n",
    "y = scaled_df['class']"
   ]
  },
  {
   "cell_type": "code",
   "execution_count": null,
   "metadata": {},
   "outputs": [],
   "source": []
  },
  {
   "cell_type": "code",
   "execution_count": null,
   "metadata": {},
   "outputs": [],
   "source": []
  },
  {
   "cell_type": "code",
   "execution_count": 87,
   "metadata": {},
   "outputs": [],
   "source": [
    "pca = PCA(n_components=2)"
   ]
  },
  {
   "cell_type": "code",
   "execution_count": 88,
   "metadata": {},
   "outputs": [
    {
     "data": {
      "text/plain": [
       "PCA(copy=True, iterated_power='auto', n_components=2, random_state=None,\n",
       "    svd_solver='auto', tol=0.0, whiten=False)"
      ]
     },
     "execution_count": 88,
     "metadata": {},
     "output_type": "execute_result"
    }
   ],
   "source": [
    "pca.fit(scaled_df)"
   ]
  },
  {
   "cell_type": "code",
   "execution_count": 89,
   "metadata": {},
   "outputs": [],
   "source": [
    "x_pca = pca.transform(scaled_df)"
   ]
  },
  {
   "cell_type": "code",
   "execution_count": 90,
   "metadata": {},
   "outputs": [
    {
     "data": {
      "text/plain": [
       "(284, 10)"
      ]
     },
     "execution_count": 90,
     "metadata": {},
     "output_type": "execute_result"
    }
   ],
   "source": [
    "scaled_df.shape"
   ]
  },
  {
   "cell_type": "code",
   "execution_count": 91,
   "metadata": {},
   "outputs": [
    {
     "data": {
      "text/plain": [
       "(284, 2)"
      ]
     },
     "execution_count": 91,
     "metadata": {},
     "output_type": "execute_result"
    }
   ],
   "source": [
    "x_pca.shape"
   ]
  },
  {
   "cell_type": "code",
   "execution_count": 92,
   "metadata": {},
   "outputs": [
    {
     "data": {
      "text/plain": [
       "array([[-2.09086525e-01, -9.34956711e-01],\n",
       "       [-1.38968678e+00,  2.29428223e-01],\n",
       "       [ 8.47830903e-03,  6.39755058e-01],\n",
       "       [ 6.44559336e-01, -6.84229076e-01],\n",
       "       [ 8.88075348e-01, -7.04863632e-01],\n",
       "       [ 4.14748931e-01,  1.99932082e-01],\n",
       "       [ 4.28305419e-01,  7.39119681e-01],\n",
       "       [-1.05961983e+00, -9.61013712e-01],\n",
       "       [-1.57926084e+00, -1.25601855e+00],\n",
       "       [ 4.50072437e+00,  1.31625868e-01],\n",
       "       [-5.28272297e-01,  1.17686855e-01],\n",
       "       [-1.08508664e+00,  1.28693658e+00],\n",
       "       [-7.30006605e-01,  4.46476222e-01],\n",
       "       [-5.42211053e-01,  5.26196798e-01],\n",
       "       [-1.61819944e-01, -7.95241481e-01],\n",
       "       [-3.11006010e-01, -1.91997067e+00],\n",
       "       [-6.82984675e-01,  7.14456238e-03],\n",
       "       [-1.08508664e+00,  1.28693658e+00],\n",
       "       [ 1.56651717e-01,  3.78520740e-01],\n",
       "       [-4.51268148e-01,  4.49722348e-01],\n",
       "       [-9.92975342e-01,  8.29453261e-01],\n",
       "       [ 9.36280417e-01,  1.70609111e+00],\n",
       "       [-1.00724168e+00,  3.37712247e-01],\n",
       "       [-1.37045613e+00, -9.56888595e-01],\n",
       "       [ 1.58534150e+00, -1.74922997e+00],\n",
       "       [ 2.24481135e-01,  5.14475017e-01],\n",
       "       [-1.22713507e+00,  2.65362914e-01],\n",
       "       [-1.37045613e+00, -9.56888595e-01],\n",
       "       [ 8.46771574e-01,  1.51670113e+00],\n",
       "       [ 3.72259363e+00, -6.66820559e-01],\n",
       "       [-8.76445208e-02,  1.29946438e+00],\n",
       "       [-5.53571861e-02,  1.46833085e+00],\n",
       "       [-2.81862433e-01,  4.34499911e-01],\n",
       "       [-4.55390856e-01,  4.30773834e-01],\n",
       "       [-2.48640141e-01, -6.99818517e-01],\n",
       "       [-1.06859506e+00, -1.81481509e+00],\n",
       "       [-1.06374254e+00, -9.79962226e-01],\n",
       "       [ 2.22128049e+00,  1.66098618e+00],\n",
       "       [-3.73423184e-01, -4.99501990e-01],\n",
       "       [-1.44618764e+00, -1.08824625e+00],\n",
       "       [ 5.56429391e-01, -1.57786805e+00],\n",
       "       [ 2.68428268e+00, -5.29157217e-01],\n",
       "       [-6.70543695e-01,  1.38784937e+00],\n",
       "       [ 6.12730756e-01,  3.97526581e-01],\n",
       "       [-1.06859506e+00, -1.81481509e+00],\n",
       "       [ 1.05114554e-01,  1.16873637e-01],\n",
       "       [-1.17364019e+00,  1.21340040e+00],\n",
       "       [ 6.69803175e-01, -6.40443191e-01],\n",
       "       [ 9.19680958e-01,  5.05116892e-01],\n",
       "       [ 4.24182711e-01,  7.20171167e-01],\n",
       "       [ 1.11903416e+00,  2.35890553e+00],\n",
       "       [-5.06639589e-02,  9.59145072e-01],\n",
       "       [-1.29366838e+00, -1.30392955e+00],\n",
       "       [-4.45909750e-01,  2.48962356e+00],\n",
       "       [-3.44331330e-01, -8.76510216e-01],\n",
       "       [ 3.91332914e+00,  7.98129538e-01],\n",
       "       [-1.05487928e+00,  6.84111530e-02],\n",
       "       [ 4.13596947e+00,  9.15957986e-01],\n",
       "       [ 2.00054640e-01,  8.23445325e-01],\n",
       "       [-1.36939217e+00, -2.21154592e+00],\n",
       "       [ 2.44357097e+00,  8.07066169e-01],\n",
       "       [-1.03316807e-01, -7.79323512e-01],\n",
       "       [-3.48179345e-01, -4.55716105e-01],\n",
       "       [ 4.38227380e+00, -4.49772559e-01],\n",
       "       [-5.26991933e-01, -4.57894023e-01],\n",
       "       [-1.38968678e+00,  2.29428223e-01],\n",
       "       [-3.26217399e-01, -1.71213856e+00],\n",
       "       [-1.10620777e+00,  1.26209921e+00],\n",
       "       [ 3.29204559e+00,  6.75784819e-01],\n",
       "       [-1.29261116e+00, -1.90611293e+00],\n",
       "       [ 1.02839042e+00,  1.47750893e-01],\n",
       "       [-3.01133475e-02,  1.51211674e+00],\n",
       "       [-1.63693746e+00,  1.19387500e+00],\n",
       "       [ 1.82195667e+00,  5.75982581e-01],\n",
       "       [ 1.97464061e+00, -1.69210308e+00],\n",
       "       [-1.52972595e+00,  3.07385058e-01],\n",
       "       [-1.27477267e+00, -3.93818019e-03],\n",
       "       [-5.05037718e-01, -9.38057766e-01],\n",
       "       [-1.16900347e-02, -8.60914149e-01],\n",
       "       [ 1.30125169e+00,  1.53563507e+00],\n",
       "       [-1.03817885e+00,  7.40333332e-01],\n",
       "       [-4.29306202e-01, -8.06700111e-01],\n",
       "       [-4.90882561e-01, -6.67491262e-01],\n",
       "       [-9.49624090e-01,  1.30469825e+00],\n",
       "       [-1.50141587e+00, -2.20524288e+00],\n",
       "       [ 2.08412028e-01,  6.66770348e-01],\n",
       "       [-5.10957768e-02, -5.22792596e-01],\n",
       "       [ 1.60751212e+00, -1.55031727e+00],\n",
       "       [-1.09406187e+00,  4.33135211e-01],\n",
       "       [-6.24908542e-01,  6.40568276e-01],\n",
       "       [-1.03988313e+00,  1.37605651e+00],\n",
       "       [ 1.27955723e+00, -1.56797216e+00],\n",
       "       [-9.67731504e-01,  8.73239146e-01],\n",
       "       [-1.16683134e+00, -7.45237732e-02],\n",
       "       [-7.62104445e-01,  4.53847465e-01],\n",
       "       [ 5.85729915e-01, -4.99541113e-01],\n",
       "       [ 1.88139443e-01, -1.41558557e+00],\n",
       "       [-1.49466606e+00, -7.62875134e-02],\n",
       "       [ 1.44670675e-01,  1.47342107e+00],\n",
       "       [-1.38965460e-01, -6.01444964e-01],\n",
       "       [ 6.04872245e-01, -8.06963262e-01],\n",
       "       [-8.36035372e-01, -3.33148465e-02],\n",
       "       [-4.08479109e-02,  5.31686615e-01],\n",
       "       [-8.61070540e-01,  1.37823443e+00],\n",
       "       [-1.00227815e+00, -9.24599070e-01],\n",
       "       [ 7.27690020e-01,  1.40092723e+00],\n",
       "       [ 1.67609428e-01,  1.38555337e+00],\n",
       "       [-4.21492427e-01,  6.75979349e-02],\n",
       "       [-6.79518927e-01,  5.34047992e-01],\n",
       "       [-6.95564563e-01, -9.47672701e-01],\n",
       "       [-1.39180023e+00,  1.31001022e+00],\n",
       "       [-3.15187753e-01,  1.47796036e+00],\n",
       "       [-7.69574605e-02, -1.57705483e+00],\n",
       "       [ 1.53683262e+00, -1.50454222e+00],\n",
       "       [-1.92843966e+00,  1.00911652e+00],\n",
       "       [-1.60757091e+00,  1.25660940e+00],\n",
       "       [ 2.03171416e+00, -6.00719302e-01],\n",
       "       [-1.60757091e+00,  1.25660940e+00],\n",
       "       [ 2.73477035e+00, -4.41585447e-01],\n",
       "       [-9.55913183e-01, -8.55975813e-01],\n",
       "       [ 4.00105973e-01, -8.05480481e-01],\n",
       "       [-3.07003134e-01,  1.63505588e-01],\n",
       "       [-8.64970278e-01, -9.32450264e-01],\n",
       "       [ 3.12413548e+00, -1.40005109e+00],\n",
       "       [-1.03226254e+00, -1.99780982e+00],\n",
       "       [-6.54275089e-01,  5.77833877e-01],\n",
       "       [-4.21283756e-01,  1.52293310e+00],\n",
       "       [-6.66420987e-01,  1.40679788e+00],\n",
       "       [-7.07702730e-01, -8.94967414e-01],\n",
       "       [-1.11033048e+00,  1.24315070e+00],\n",
       "       [-2.55777779e-01, -8.02974034e-01],\n",
       "       [ 1.91414349e-01, -2.51666423e+00],\n",
       "       [ 2.04080649e-01, -8.07513329e-01],\n",
       "       [-2.97282493e-01, -8.13003147e-01],\n",
       "       [ 2.04512290e-01, -1.64391435e+00],\n",
       "       [-9.40694063e-01, -1.84006663e+00],\n",
       "       [-2.04936696e+00,  1.23802230e-02],\n",
       "       [-1.96951273e+00,  1.62686392e-01],\n",
       "       [ 8.92904401e-01,  1.76400525e+00],\n",
       "       [-6.90824010e-01,  8.17521644e-02],\n",
       "       [ 6.20427013e+00,  1.77467552e+00],\n",
       "       [-3.99939655e-01, -7.43965712e-01],\n",
       "       [ 7.38414994e-01, -6.38273224e-01],\n",
       "       [ 2.38419891e-01,  1.05965075e-01],\n",
       "       [-7.51485318e-01,  2.26149105e-01],\n",
       "       [-8.81238884e-01, -1.22434775e-01],\n",
       "       [ 2.55396415e+00, -1.42770912e+00],\n",
       "       [-1.63281475e+00,  1.21282351e+00],\n",
       "       [ 2.30373974e-01, -5.89652112e-01],\n",
       "       [ 2.49153925e+00,  7.69018280e-01],\n",
       "       [ 9.33524308e-01, -4.52443329e-01],\n",
       "       [-1.03248551e+00,  2.93926362e-01],\n",
       "       [ 1.08293357e+00,  7.79034979e-01],\n",
       "       [ 1.23456803e+00, -1.66312601e+00],\n",
       "       [-1.32610116e+00,  1.18974988e+00],\n",
       "       [-1.69311848e+00,  1.55271020e+00],\n",
       "       [ 5.50662484e-02, -1.58335787e+00],\n",
       "       [ 5.76621206e-01, -1.71121487e+00],\n",
       "       [-1.50860482e+00,  3.32222430e-01],\n",
       "       [-3.38586267e-01,  1.40856162e+00],\n",
       "       [ 7.51088116e-01,  5.63750720e-01],\n",
       "       [ 1.40107425e+00, -5.54426970e-01],\n",
       "       [ 4.33045973e-01,  1.76854455e+00],\n",
       "       [-1.66531624e-03,  1.66962558e-01],\n",
       "       [ 6.76377915e-01, -4.67345683e-01],\n",
       "       [ 1.64658292e+00,  5.97869363e-01],\n",
       "       [ 2.26796432e-01,  1.39635515e+00],\n",
       "       [-7.20808402e-01, -9.91458586e-01],\n",
       "       [-6.19833047e-01, -8.16315045e-01],\n",
       "       [ 6.74283465e-01, -4.26004931e-01],\n",
       "       [-7.31056090e-01,  2.72400890e-01],\n",
       "       [ 9.06979893e-01,  6.27764170e-01],\n",
       "       [-4.60243381e-01, -4.04079025e-01],\n",
       "       [-6.81841046e-01,  1.59294822e-01],\n",
       "       [ 1.68025682e+00, -5.09499154e-01],\n",
       "       [-6.23955755e-01, -8.35263559e-01],\n",
       "       [ 1.66604501e-01, -7.76668855e-01],\n",
       "       [ 2.60238103e+00, -6.14473931e-01],\n",
       "       [-2.97282493e-01, -8.13003147e-01],\n",
       "       [-9.81157021e-01, -8.99761698e-01],\n",
       "       [ 3.08218938e-01, -1.53887645e+00],\n",
       "       [ 1.04636565e+00,  1.32219451e+00],\n",
       "       [-2.92110299e-01, -6.19979300e-01],\n",
       "       [ 8.85858762e-01,  6.02926799e-01],\n",
       "       [-1.48013081e+00, -1.05526215e+00],\n",
       "       [-1.46340904e+00,  1.19760107e+00],\n",
       "       [ 7.20569401e-02, -8.01210294e-01],\n",
       "       [ 3.87976425e-02, -7.73342379e-01],\n",
       "       [-1.47227230e+00,  1.49227695e-01],\n",
       "       [-5.82882682e-01,  1.11665713e-02],\n",
       "       [-4.21492427e-01,  6.75979349e-02],\n",
       "       [-9.53523828e-01, -1.00598645e+00],\n",
       "       [ 1.98924893e+00,  1.64134214e+00],\n",
       "       [ 5.85506945e-01,  1.79219507e+00],\n",
       "       [-4.04062363e-01, -7.62914226e-01],\n",
       "       [ 1.68717949e-01, -1.85725085e+00],\n",
       "       [-2.55770049e-01, -1.57923275e+00],\n",
       "       [-7.88301070e-01,  1.88589342e+00],\n",
       "       [ 2.68071379e+00, -8.28852209e-01],\n",
       "       [-4.51699789e-01,  1.28612337e+00],\n",
       "       [-1.25215594e+00, -2.07015915e+00],\n",
       "       [ 1.26667325e-01, -6.94690010e-01],\n",
       "       [-1.39814006e-01,  1.45607358e+00],\n",
       "       [-7.86507468e-01, -8.71198250e-01],\n",
       "       [-7.82384760e-01, -8.52249736e-01],\n",
       "       [ 1.41445936e+00,  1.63614825e+00],\n",
       "       [-5.63332184e-01,  5.01359427e-01],\n",
       "       [ 2.82819365e-01,  1.84310045e-01],\n",
       "       [ 9.88947565e-01, -3.02511654e-01],\n",
       "       [-6.04679950e-01, -7.84813329e-01],\n",
       "       [ 3.41761243e+00, -2.85802644e-01],\n",
       "       [ 5.98068016e-02, -5.53933002e-01],\n",
       "       [-6.45076886e-01, -8.60100930e-01],\n",
       "       [-9.20533450e-01,  4.36861288e-01],\n",
       "       [-6.23955755e-01, -8.35263559e-01],\n",
       "       [-3.95422072e-01,  2.57719533e+00],\n",
       "       [-2.02439850e-01,  1.42120710e+00],\n",
       "       [-5.28272297e-01,  1.17686855e-01],\n",
       "       [ 1.40435996e-01,  1.64904456e+00],\n",
       "       [-5.66079121e-01,  4.55880313e-01],\n",
       "       [-8.70045773e-01,  5.24433058e-01],\n",
       "       [-4.51268148e-01,  4.49722348e-01],\n",
       "       [ 1.41360662e-01, -8.20454740e-01],\n",
       "       [-9.83015613e-02,  6.89843978e-01],\n",
       "       [ 5.33328950e-02, -1.75231701e+00],\n",
       "       [-7.32120053e-01,  1.52705821e+00],\n",
       "       [-3.63830106e-01,  1.36477573e+00],\n",
       "       [-8.37663088e-02, -2.89130656e-01],\n",
       "       [-3.22094691e-01, -1.69319005e+00],\n",
       "       [-5.13053177e-01, -8.66403966e-01],\n",
       "       [-5.92475760e-01, -1.85311115e+00],\n",
       "       [-1.08898638e+00, -1.02374811e+00],\n",
       "       [-1.02266947e+00, -1.33532095e-01],\n",
       "       [-8.13864755e-01,  1.65597857e-01],\n",
       "       [-8.65193248e-01,  1.35928592e+00],\n",
       "       [ 1.21160190e-01,  1.59859433e+00],\n",
       "       [-5.04166528e-01, -1.06877983e+00],\n",
       "       [ 3.74829722e+00, -4.65768228e-01],\n",
       "       [-1.65052670e-02,  1.41095578e+00],\n",
       "       [ 2.44357097e+00,  8.07066169e-01],\n",
       "       [ 4.68925326e-01, -1.47732890e+00],\n",
       "       [-2.59900487e-01, -8.21922548e-01],\n",
       "       [-5.12003691e-01, -6.92328633e-01],\n",
       "       [-1.10620777e+00,  1.26209921e+00],\n",
       "       [-1.08486367e+00, -1.00479960e+00],\n",
       "       [-1.19302797e+00,  1.35752218e+00],\n",
       "       [-1.50448211e+00,  3.51170943e-01],\n",
       "       [-8.34985886e-01,  1.40760486e-01],\n",
       "       [ 2.61183305e+00,  6.39693472e-01],\n",
       "       [-1.09098865e+00,  2.78008392e-01],\n",
       "       [-5.37247530e-01, -7.36114518e-01],\n",
       "       [-2.22617802e+00,  1.88599153e+00],\n",
       "       [ 3.39910669e-02, -7.87174706e-01],\n",
       "       [-9.43415747e-02,  7.44778618e-02],\n",
       "       [ 2.28371701e-01,  7.12104391e-01],\n",
       "       [-2.78855234e-01,  1.29496563e+00],\n",
       "       [ 9.09196479e-01, -6.80026261e-01],\n",
       "       [-7.57981737e-01,  4.72795979e-01],\n",
       "       [-5.25422045e-01,  2.25429622e+00],\n",
       "       [-7.04539796e-01, -1.80147407e+00],\n",
       "       [-4.46527595e-01,  1.47914721e+00],\n",
       "       [ 4.43481989e-01, -8.63394626e-01],\n",
       "       [ 2.59831912e+00,  7.18929359e-01],\n",
       "       [-1.73853066e+00,  8.25510594e-03],\n",
       "       [-2.11146164e-01, -9.03309924e-01],\n",
       "       [ 4.24405682e-01, -1.57156501e+00],\n",
       "       [-5.95973636e-01,  1.53970369e+00],\n",
       "       [-1.19302797e+00,  1.35752218e+00],\n",
       "       [ 1.45584176e+00,  5.94288357e-01],\n",
       "       [ 4.46971184e+00,  4.65280827e-01],\n",
       "       [ 7.29082178e-01, -1.68756434e+00],\n",
       "       [ 1.06326076e+00, -7.63046884e-01],\n",
       "       [ 1.83168189e-01,  6.22984463e-01],\n",
       "       [-6.73643827e-02,  2.87222893e-01],\n",
       "       [-2.68599814e-01, -7.45152561e-01],\n",
       "       [-1.47632569e-02, -7.05787330e-01],\n",
       "       [ 8.09546516e-01,  2.49476892e-01],\n",
       "       [-6.74443433e-01, -9.22835329e-01],\n",
       "       [-6.47033210e-01,  1.26267610e+00],\n",
       "       [ 1.43370704e+00,  6.92931017e-01],\n",
       "       [ 5.89653125e-01,  1.77127559e-01],\n",
       "       [ 1.64557799e+00, -1.56435286e+00],\n",
       "       [-9.72181789e-01, -4.59603250e-02],\n",
       "       [ 3.77817742e-01,  6.51547911e-01]])"
      ]
     },
     "execution_count": 92,
     "metadata": {},
     "output_type": "execute_result"
    }
   ],
   "source": [
    "x_pca"
   ]
  },
  {
   "cell_type": "code",
   "execution_count": 93,
   "metadata": {},
   "outputs": [
    {
     "data": {
      "text/html": [
       "<div>\n",
       "<style scoped>\n",
       "    .dataframe tbody tr th:only-of-type {\n",
       "        vertical-align: middle;\n",
       "    }\n",
       "\n",
       "    .dataframe tbody tr th {\n",
       "        vertical-align: top;\n",
       "    }\n",
       "\n",
       "    .dataframe thead th {\n",
       "        text-align: right;\n",
       "    }\n",
       "</style>\n",
       "<table border=\"1\" class=\"dataframe\">\n",
       "  <thead>\n",
       "    <tr style=\"text-align: right;\">\n",
       "      <th></th>\n",
       "      <th>0</th>\n",
       "      <th>1</th>\n",
       "      <th>class</th>\n",
       "    </tr>\n",
       "  </thead>\n",
       "  <tbody>\n",
       "    <tr>\n",
       "      <th>0</th>\n",
       "      <td>-0.209087</td>\n",
       "      <td>-0.934957</td>\n",
       "      <td>1.0</td>\n",
       "    </tr>\n",
       "    <tr>\n",
       "      <th>1</th>\n",
       "      <td>-1.389687</td>\n",
       "      <td>0.229428</td>\n",
       "      <td>0.0</td>\n",
       "    </tr>\n",
       "    <tr>\n",
       "      <th>2</th>\n",
       "      <td>0.008478</td>\n",
       "      <td>0.639755</td>\n",
       "      <td>1.0</td>\n",
       "    </tr>\n",
       "    <tr>\n",
       "      <th>3</th>\n",
       "      <td>0.644559</td>\n",
       "      <td>-0.684229</td>\n",
       "      <td>0.0</td>\n",
       "    </tr>\n",
       "    <tr>\n",
       "      <th>4</th>\n",
       "      <td>0.888075</td>\n",
       "      <td>-0.704864</td>\n",
       "      <td>1.0</td>\n",
       "    </tr>\n",
       "  </tbody>\n",
       "</table>\n",
       "</div>"
      ],
      "text/plain": [
       "          0         1  class\n",
       "0 -0.209087 -0.934957    1.0\n",
       "1 -1.389687  0.229428    0.0\n",
       "2  0.008478  0.639755    1.0\n",
       "3  0.644559 -0.684229    0.0\n",
       "4  0.888075 -0.704864    1.0"
      ]
     },
     "execution_count": 93,
     "metadata": {},
     "output_type": "execute_result"
    }
   ],
   "source": [
    "dfpca = pd.DataFrame(x_pca)\n",
    "dfpca['class'] = scaled_df['class']\n",
    "dfpca.head()"
   ]
  },
  {
   "cell_type": "code",
   "execution_count": 94,
   "metadata": {},
   "outputs": [],
   "source": [
    "for c in dfpca.columns[0:2]:\n",
    "    dfpca.rename({int(c): f'PC{int(c)+1}'}, axis=1,inplace=True)"
   ]
  },
  {
   "cell_type": "code",
   "execution_count": 95,
   "metadata": {},
   "outputs": [
    {
     "data": {
      "text/html": [
       "<div>\n",
       "<style scoped>\n",
       "    .dataframe tbody tr th:only-of-type {\n",
       "        vertical-align: middle;\n",
       "    }\n",
       "\n",
       "    .dataframe tbody tr th {\n",
       "        vertical-align: top;\n",
       "    }\n",
       "\n",
       "    .dataframe thead th {\n",
       "        text-align: right;\n",
       "    }\n",
       "</style>\n",
       "<table border=\"1\" class=\"dataframe\">\n",
       "  <thead>\n",
       "    <tr style=\"text-align: right;\">\n",
       "      <th></th>\n",
       "      <th>PC1</th>\n",
       "      <th>PC2</th>\n",
       "      <th>class</th>\n",
       "    </tr>\n",
       "  </thead>\n",
       "  <tbody>\n",
       "    <tr>\n",
       "      <th>0</th>\n",
       "      <td>-0.209087</td>\n",
       "      <td>-0.934957</td>\n",
       "      <td>1.0</td>\n",
       "    </tr>\n",
       "    <tr>\n",
       "      <th>1</th>\n",
       "      <td>-1.389687</td>\n",
       "      <td>0.229428</td>\n",
       "      <td>0.0</td>\n",
       "    </tr>\n",
       "    <tr>\n",
       "      <th>2</th>\n",
       "      <td>0.008478</td>\n",
       "      <td>0.639755</td>\n",
       "      <td>1.0</td>\n",
       "    </tr>\n",
       "    <tr>\n",
       "      <th>3</th>\n",
       "      <td>0.644559</td>\n",
       "      <td>-0.684229</td>\n",
       "      <td>0.0</td>\n",
       "    </tr>\n",
       "    <tr>\n",
       "      <th>4</th>\n",
       "      <td>0.888075</td>\n",
       "      <td>-0.704864</td>\n",
       "      <td>1.0</td>\n",
       "    </tr>\n",
       "    <tr>\n",
       "      <th>...</th>\n",
       "      <td>...</td>\n",
       "      <td>...</td>\n",
       "      <td>...</td>\n",
       "    </tr>\n",
       "    <tr>\n",
       "      <th>279</th>\n",
       "      <td>1.433707</td>\n",
       "      <td>0.692931</td>\n",
       "      <td>0.0</td>\n",
       "    </tr>\n",
       "    <tr>\n",
       "      <th>280</th>\n",
       "      <td>0.589653</td>\n",
       "      <td>0.177128</td>\n",
       "      <td>0.0</td>\n",
       "    </tr>\n",
       "    <tr>\n",
       "      <th>281</th>\n",
       "      <td>1.645578</td>\n",
       "      <td>-1.564353</td>\n",
       "      <td>0.0</td>\n",
       "    </tr>\n",
       "    <tr>\n",
       "      <th>282</th>\n",
       "      <td>-0.972182</td>\n",
       "      <td>-0.045960</td>\n",
       "      <td>0.0</td>\n",
       "    </tr>\n",
       "    <tr>\n",
       "      <th>283</th>\n",
       "      <td>0.377818</td>\n",
       "      <td>0.651548</td>\n",
       "      <td>0.0</td>\n",
       "    </tr>\n",
       "  </tbody>\n",
       "</table>\n",
       "<p>284 rows × 3 columns</p>\n",
       "</div>"
      ],
      "text/plain": [
       "          PC1       PC2  class\n",
       "0   -0.209087 -0.934957    1.0\n",
       "1   -1.389687  0.229428    0.0\n",
       "2    0.008478  0.639755    1.0\n",
       "3    0.644559 -0.684229    0.0\n",
       "4    0.888075 -0.704864    1.0\n",
       "..        ...       ...    ...\n",
       "279  1.433707  0.692931    0.0\n",
       "280  0.589653  0.177128    0.0\n",
       "281  1.645578 -1.564353    0.0\n",
       "282 -0.972182 -0.045960    0.0\n",
       "283  0.377818  0.651548    0.0\n",
       "\n",
       "[284 rows x 3 columns]"
      ]
     },
     "execution_count": 95,
     "metadata": {},
     "output_type": "execute_result"
    }
   ],
   "source": [
    "dfpca"
   ]
  },
  {
   "cell_type": "code",
   "execution_count": 96,
   "metadata": {},
   "outputs": [
    {
     "data": {
      "text/plain": [
       "<seaborn.axisgrid.FacetGrid at 0x2314c262248>"
      ]
     },
     "execution_count": 96,
     "metadata": {},
     "output_type": "execute_result"
    },
    {
     "data": {
      "image/png": "[encoded data removed]",
      "text/plain": [
       "<Figure size 411.875x360 with 1 Axes>"
      ]
     },
     "metadata": {
      "needs_background": "light"
     },
     "output_type": "display_data"
    }
   ],
   "source": [
    "sns.lmplot(x='PC1', y='PC2', hue='class', data=dfpca, fit_reg=False)"
   ]
  },
  {
   "cell_type": "code",
   "execution_count": 97,
   "metadata": {},
   "outputs": [
    {
     "data": {
      "text/plain": [
       "array([[-0.1030888 , -0.03505989,  0.43978678,  0.79056026,  0.19602532,\n",
       "         0.30671359, -0.00412271, -0.05048768,  0.13133984,  0.13202371],\n",
       "       [ 0.90543845,  0.38367257,  0.14469867,  0.0585947 ,  0.00203285,\n",
       "        -0.02307363, -0.01894851, -0.08757177, -0.00118685, -0.00630304]])"
      ]
     },
     "execution_count": 97,
     "metadata": {},
     "output_type": "execute_result"
    }
   ],
   "source": [
    "pca.components_"
   ]
  },
  {
   "cell_type": "code",
   "execution_count": 98,
   "metadata": {},
   "outputs": [
    {
     "data": {
      "text/plain": [
       "2.8454341506398206"
      ]
     },
     "execution_count": 98,
     "metadata": {},
     "output_type": "execute_result"
    }
   ],
   "source": [
    "sum(pca.explained_variance_)"
   ]
  },
  {
   "cell_type": "code",
   "execution_count": 99,
   "metadata": {},
   "outputs": [
    {
     "data": {
      "text/plain": [
       "0.0    199\n",
       "1.0     84\n",
       "Name: class, dtype: int64"
      ]
     },
     "execution_count": 99,
     "metadata": {},
     "output_type": "execute_result"
    }
   ],
   "source": [
    "dfpca['class'].value_counts()"
   ]
  },
  {
   "cell_type": "code",
   "execution_count": 100,
   "metadata": {},
   "outputs": [
    {
     "data": {
      "text/plain": [
       "<matplotlib.axes._subplots.AxesSubplot at 0x2314c2bd588>"
      ]
     },
     "execution_count": 100,
     "metadata": {},
     "output_type": "execute_result"
    },
    {
     "data": {
      "image/png": "[encoded data removed]",
      "text/plain": [
       "<Figure size 432x288 with 2 Axes>"
      ]
     },
     "metadata": {
      "needs_background": "light"
     },
     "output_type": "display_data"
    }
   ],
   "source": [
    "sns.heatmap(dfpca.corr(), annot=True)"
   ]
  },
  {
   "cell_type": "code",
   "execution_count": null,
   "metadata": {},
   "outputs": [],
   "source": []
  },
  {
   "cell_type": "markdown",
   "metadata": {},
   "source": [
    "## Overview"
   ]
  },
  {
   "cell_type": "markdown",
   "metadata": {},
   "source": [
    "Tingkat akurasi model machine learning masih cukup rendah untuk dapat diandalkan dalam memprediksi apakah selkanker akan kembali kambuh atau tidak, dikarenakan keterbatasan dalam dataset.\n",
    "\n",
    "Karena beberapa feature seperti usia dan ukuran tumor tidak diberikan dalam bentuk data numerik langsung sehingga memerlukan perubahan yang mengakibatkan kehilangan informasi yang penting.\n",
    "\n",
    "Dataset juga tidak mencakup semua faktor risiko kanker muncul kembali seperti riwayat keluarga mutasi genetik, ketersediaan metrik ini akan meningkatkan skor akurasi prediksi.\n",
    "\n",
    "Dataset tidak mengandung rincian mengenai inti dari sel kanker: misalnya. (luas, tekstur,bentuk dll).\n",
    "\n",
    "Machine learning algorithm dapat digunakan untuk mendeteksi secara dini kejadian kanker payudara, namun mengingat algoritma ini memerlukan variabel input analitik dan tidak bergantung pada gejala kanker yang sebenarnya, maka cukup dapat digunakan untuk meningkatkan kemungkinan hidup pasien.\n",
    "\n",
    "Sayangnya karena keterbatasan dataset, akurasi prediksi model maksimum 70%. Risiko dengan skor akurasi yang rendah adalah jumlah FP - False Positive (wanita dengan peristiwa kanker kambuh kembali yang dites negatif) yang mungkin tidak terdeteksi.\n",
    "\n",
    "\n",
    "PCA tidak dapat memisahkan dua kelas antara recurrent (1) dengan yang tidak (0).\n",
    "\n",
    "Dari plot PCA, maka saya berasumsi Logistic Regression sebelumnya masih lebih baik dari PCA."
   ]
  }
 ],
 "metadata": {
  "kernelspec": {
   "display_name": "Python 3",
   "language": "python",
   "name": "python3"
  },
  "language_info": {
   "codemirror_mode": {
    "name": "ipython",
    "version": 3
   },
   "file_extension": ".py",
   "mimetype": "text/x-python",
   "name": "python",
   "nbconvert_exporter": "python",
   "pygments_lexer": "ipython3",
   "version": "3.7.6"
  }
 },
 "nbformat": 4,
 "nbformat_minor": 4
}
